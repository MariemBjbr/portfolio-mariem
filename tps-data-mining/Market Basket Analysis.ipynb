{
  "cells": [
    {
      "cell_type": "markdown",
      "metadata": {
        "id": "4mh2MiuVMazk"
      },
      "source": [
        "# TP2 - Market Basket Analysis\n",
        "INF8111 - Fouille de données, Eté 2025\n",
        "\n",
        "#### Membres de l'équipe :\n",
        "- Elaa Mokhtari (2345005)\n",
        "- Marc Jodel Dumesle Alcindor (2000081)\n",
        "- Mariem Ben Jaber (2082688)\n",
        "\n",
        "#### Numéro du groupe :\n",
        "    - TP - Groupe 1\n"
      ]
    },
    {
      "cell_type": "code",
      "execution_count": 1,
      "metadata": {
        "id": "oBYZkM_L5NX9"
      },
      "outputs": [],
      "source": [
        "ROOT = \"/content/data/\""
      ]
    },
    {
      "cell_type": "markdown",
      "metadata": {
        "id": "bh1o2bpwPQJG"
      },
      "source": [
        "#### Livrable :\n",
        "\n",
        "Vous devez soumettre ce notebook sur Moodle dans la boite de remise sous le nom TP2_NumeroGroupe_matricule1_matricule2_matricule3.ipynb.\n",
        "\n",
        "**NB**: Tout travail en retard sera pénalisé d'une valeur de 10\\% par jour de retard."
      ]
    },
    {
      "cell_type": "markdown",
      "metadata": {
        "id": "taIxayWsmT9m"
      },
      "source": [
        "## 1. Introduction: Market Basket Analysis"
      ]
    },
    {
      "cell_type": "markdown",
      "metadata": {
        "id": "ZQOy7hD8t76L"
      },
      "source": [
        "### Présentation\n",
        "\n",
        "Le *Market Basket Analysis* (MBA) est une technique d'analyse de la fouille de données qui permet de découvrir les associations entre les produits ou leur regroupement. En explorant des motifs intéressants à partir d'une vaste collection de données, le MBA vise à comprendre / révéler les comportements d'achat des clients en se basant sur la théorie selon laquelle si vous avez acheté un certain ensemble de produits, vous êtes plus (ou moins) susceptible d'acheter un autre groupe de produits. En d'autres termes, le MBA permet aux détaillants d'identifier la relation entre les articles que les clients achètent, révélant des tendances d'articles souvent achetés ensemble.\n",
        "\n",
        "Une approche largement utilisée pour explorer ces motifs consiste à construire *** des règles d'association *** telles que\n",
        "- **si** acheté *ITEM_1* **alors** achètera *ITEM_2* avec **confiance** *X*.\n",
        "\n",
        "Ces associations n'ont pas à être des règles individuelles. Ils peuvent impliquer de nombreux éléments. Par exemple, une personne dans un supermarché peut ajouter des œufs dans son panier, puis le MBA peut suggérer qu'elle achètera également du pain et/ou de la farine:\n",
        "\n",
        "+ **si**  acheté *OEUFS* **alors** achètera [*PAIN* avec confiance *0,2*; *FARINE* avec confiance 0,05].\n",
        "\n",
        "Cependant, si la personne décide maintenant d'ajouter de la farine à son panier, la nouvelle règle d'association pourrait être comme ci-dessous, suggérant des ingrédients pour faire un gâteau.\n",
        "\n",
        "+ **si** acheté [*OEUFS, FARINE*] **alors** achètera [*SUCRE* avec confiance 0,45; LEVURE avec confiance 0,12; *PAIN* avec confiance *0,03*].\n",
        "\n",
        "Il existe de nombreux scénarios réels où le MBA joue un rôle central dans l'analyse des données, comme les transactions de supermarché, les commandes en ligne ou l'historique des cartes de crédit. Avec une approche un peu moins mercantile, cet algorithme est aussi utilisé dans le domaine médical. Les spécialistes du marketing peuvent utiliser ces règles d'association pour organiser les produits corrélés plus près les uns des autres sur les étagères des magasins ou faire des suggestions en ligne afin que les clients achètent plus d'articles. Un MBA peut généralement aider les détaillants à répondre aux questions les suivantes:\n",
        "\n",
        "- Quels articles sont souvent achetés ensemble ?\n",
        "- Étant donné un panier, quels articles suggérer ?\n",
        "- Comment placer les articles ensemble sur les étagères ?\n"
      ]
    },
    {
      "cell_type": "markdown",
      "metadata": {
        "id": "_WwuVfQgmaRV"
      },
      "source": [
        "### Objectif\n",
        "\n",
        "Votre objectif dans ce TP est de développer un algorithme MBA pour révéler les motifs en créant des règles d'association dans un ensemble de données volumineux avec plus de trois millions de transactions de supermarché. Cependant, la collecte de règles d'association dans les grands ensembles de données est un problème très intensif en calcul, ce qui rend presque impossible leur exécution sans système distribué.\n",
        "\n",
        "À cette fin, un algorithme **MapReduce** sera implémenté avec le framework [Apache Spark](http://spark.apache.org), un système informatique distribué rapide. En résumé, Spark est un framework open source conçu avec une méthodologie *scale-out* qui en fait un outil très puissant pour les programmeurs ou les développeurs d'applications pour effectuer un volume massif de calculs et de traitement de données dans des environnements distribués. Spark fournit des API de haut niveau qui facilitent la création d'applications parallèles sans avoir à se soucier de la façon dont votre code et vos données sont parallélisés / distribués par le cluster informatique. Spark fait tout pour vous.\n",
        "\n",
        "La mise en œuvre suivra l'algorithme d'analyse du panier de marché présenté par Jongwook Woo et Yuhang Xu (2012). L'image **workflow.pdf** illustre le flux de travail de l'algorithme et doit être utilisée pour consultation tout au long de ce TP. Les cases bleues sont celles où vous devez implémenter une méthode pour effectuer une fonction de mappage ou de réduction, et les cases grises représentent leur sortie attendue. **Toutes ces opérations sont expliquées en détail dans les sections suivantes.**"
      ]
    },
    {
      "cell_type": "markdown",
      "metadata": {
        "id": "VmJEz5JEMazl"
      },
      "source": [
        "## 1. Configuration de Spark"
      ]
    },
    {
      "cell_type": "markdown",
      "metadata": {
        "id": "kISGZ7w7mue0"
      },
      "source": [
        "#### Exécution avec le notebook Google Colab (fortement conseillé)"
      ]
    },
    {
      "cell_type": "code",
      "execution_count": 2,
      "metadata": {
        "id": "JmUMt4htMazm",
        "colab": {
          "base_uri": "https://localhost:8080/"
        },
        "outputId": "b99e88df-3e43-46e1-ee07-9adad4379469"
      },
      "outputs": [
        {
          "output_type": "stream",
          "name": "stdout",
          "text": [
            "Requirement already satisfied: pyspark in /usr/local/lib/python3.11/dist-packages (3.5.1)\n",
            "Requirement already satisfied: py4j==0.10.9.7 in /usr/local/lib/python3.11/dist-packages (from pyspark) (0.10.9.7)\n"
          ]
        }
      ],
      "source": [
        "import os\n",
        "!apt-get install openjdk-17-jdk-headless -qq > /dev/null\n",
        "os.environ[\"JAVA_HOME\"] = \"/usr/lib/jvm/java-17-openjdk-amd64\"\n",
        "!pip install pyspark"
      ]
    },
    {
      "cell_type": "markdown",
      "metadata": {
        "id": "dGqidjm0m46p"
      },
      "source": [
        "#### Exécution en local\n",
        "\n"
      ]
    },
    {
      "cell_type": "markdown",
      "metadata": {
        "id": "g1PhMitvnCW2"
      },
      "source": [
        "Spark fonctionne sur les systèmes Windows et UNIX (par exemple, Linux, Mac OS). Il est facile d'exécuter Spark localement sur une seule machine - tout ce dont vous avez besoin est d'avoir Java installé sur votre système PATH, ou la variable d'environnement JAVA_HOME pointant vers une installation Java. Il est obligatoire que le **JDK v8** soit installé sur votre système, car Spark ne prend actuellement en charge que cette version. Si ce n'est pas le cas, accédez à [la page Web de Java](https://www.oracle.com/technetwork/java/javase/downloads/jdk8-downloads-2133151.html) pour télécharger et installer une machine virtuelle Java. N'oubliez pas de définir la variable d'environnement JAVA_HOME pour utiliser JDK v8 si votre installation ne le fait pas automatiquement.\n",
        "\n",
        "L'interface entre Python et Spark se fait via **PySpark**, qui peut être installé en exécutant `pip install pyspark` ou configuré en suivant la séquence ci-dessous:\n",
        "\n",
        "1. D'abord, allez sur http://spark.apache.org/downloads\n",
        "2. Sélectionnez la dernière version de Spark et le package pré-construit pour Apache Hadoop 2.7\n",
        "3. Cliquez pour télécharger **spark-2.4.5-bin-hadoop2.7.tgz** et décompressez-le dans le dossier de votre choix.\n",
        "4. Ensuite, exportez les variables suivantes pour lier PYSPARK (l'interface python de Spark) à votre distribution python dans votre fichier `~/.bash_profile`.\n",
        "\n",
        "``\n",
        "export SPARK_HOME=/chemin/ vers / spark-2.4.5-bin-hadoop2.7\n",
        "export PYTHONPATH=\"$SPARK_HOME/python:$SPARK_HOME/python/lib/py4j-0.10.7-src.zip:$SPARK_HOME/python/lib/pyspark.zip:$ PYTHONPATH\"\n",
        "export PYSPARK_PYTHON=/chemin/vers/votre/python3\n",
        "``\n",
        "\n",
        "5. Exécutez `source ~./bash_profile` pour effectuer les modifications et redémarrer cette session de notebook jupyter."
      ]
    },
    {
      "cell_type": "markdown",
      "metadata": {
        "id": "rovSCW_vYs7m"
      },
      "source": [
        "#### Test de l'installation\n",
        "À l'aide du code suivant, vous pouvez tester si Spark est correctement installé."
      ]
    },
    {
      "cell_type": "code",
      "execution_count": 3,
      "metadata": {
        "id": "UxgNiBFkYs7n",
        "colab": {
          "base_uri": "https://localhost:8080/"
        },
        "outputId": "9e9dcfc5-0d97-4887-ba1f-9433597075f5"
      },
      "outputs": [
        {
          "output_type": "stream",
          "name": "stdout",
          "text": [
            "+-----+\n",
            "|hello|\n",
            "+-----+\n",
            "|spark|\n",
            "+-----+\n",
            "\n"
          ]
        }
      ],
      "source": [
        "import pyspark\n",
        "from pyspark.sql import SparkSession\n",
        "spark = SparkSession.builder.getOrCreate()\n",
        "df = spark.sql(\"select 'spark' as hello \")\n",
        "df.show()"
      ]
    },
    {
      "cell_type": "markdown",
      "metadata": {
        "id": "MSbOqazVnsMf"
      },
      "source": [
        "### 1.1 Exemple de comptage de produits / Products Counting Example"
      ]
    },
    {
      "cell_type": "markdown",
      "metadata": {
        "id": "QaYpUpOFMazu"
      },
      "source": [
        "Pour tester votre installation et commencer à vous familiariser avec Spark, nous suivrons un exemple qui compte combien de fois les produits du GroceryDataset dataset ont été achetés.\n",
        "\n",
        "Le principal point d'entrée pour commencer la programmation avec Spark est [l'API RDD](https://spark.apache.org/docs/latest/rdd-programming-guide.html), une excellente abstraction Spark pour travailler avec MapReduce. RDD est une collection d'éléments partitionnés sur les nœuds du cluster qui peuvent fonctionner en parallèle. En d'autres termes, RDD est la façon dont Spark maintient vos données prêtes à exécuter une fonction (par exemple, une fonction Map ou une fonction reduce) en parallèle. **Ne vous inquiétez pas si cela semble toujours déroutant, il sera clair une fois que vous commencerez à l'implémenter**. Cependant, cela fait partie de ce TP d'étudier / consulter [Spark python API](https://spark.apache.org/docs/latest/api/python/) et d'apprendre à l'utiliser. Certaines fonctions utiles offertes par l'API RDD sont:\n",
        "\n",
        "1. **map**: return a new RDD by applying a function to each element of this RDD.\n",
        "2. **flatMap**: return a new RDD by first applying a function to all elements of this RDD, and then flattening the results. **Should be used when each entry will yield more than one mapped element**\n",
        "3. **reduce**: reduces the elements of this RDD using the specified commutative and associative binary operator.\n",
        "4. **reduceByKey**: merge the values for each key using an associative and commutative reduce function\n",
        "5. **groupByKey**: group the values for each key in the RDD into a single sequence\n",
        "6. **collect**: return a list that contains all of the elements in this RDD. **Should not be used when working with a lot of data**\n",
        "7. **takeSample**: return a sampled subset of this RDD\n",
        "8. **count**: return the number of elements in this RDD.\n",
        "9. **filter**: return a new RDD containing only the elements that satisfy a predicate."
      ]
    },
    {
      "cell_type": "code",
      "execution_count": 4,
      "metadata": {
        "id": "NZDz1nrBMazu",
        "colab": {
          "base_uri": "https://localhost:8080/"
        },
        "outputId": "adb41926-4a68-4ef1-e6b8-c6447fe6b5dd"
      },
      "outputs": [
        {
          "output_type": "stream",
          "name": "stdout",
          "text": [
            "Grocery dataset\n",
            "+--------+--------------------+\n",
            "|order_id|         transaction|\n",
            "+--------+--------------------+\n",
            "|       0|  MILK,BREAD,BISCUIT|\n",
            "|       1|BREAD,MILK,BISCUI...|\n",
            "|       2| BREAD,TEA,BOURNVITA|\n",
            "|       3|JAM,MAGGI,BREAD,MILK|\n",
            "|       4|   MAGGI,TEA,BISCUIT|\n",
            "|       5| BREAD,TEA,BOURNVITA|\n",
            "|       6|MAGGI,TEA,CORNFLAKES|\n",
            "|       7|MAGGI,BREAD,TEA,B...|\n",
            "|       8| JAM,MAGGI,BREAD,TEA|\n",
            "|       9|          BREAD,MILK|\n",
            "|      10|COFFEE,COCK,BISCU...|\n",
            "|      11|COFFEE,COCK,BISCU...|\n",
            "|      12|COFFEE,SUGER,BOUR...|\n",
            "|      13|   BREAD,COFFEE,COCK|\n",
            "|      14| BREAD,SUGER,BISCUIT|\n",
            "|      15|COFFEE,SUGER,CORN...|\n",
            "|      16|BREAD,SUGER,BOURN...|\n",
            "|      17|  BREAD,COFFEE,SUGER|\n",
            "|      18|  BREAD,COFFEE,SUGER|\n",
            "|      19|TEA,MILK,COFFEE,C...|\n",
            "+--------+--------------------+\n",
            "\n",
            "Grocery dataframe as a RDD object (list of Row objects):\n",
            "\t [Row(order_id=0, transaction='MILK,BREAD,BISCUIT'), Row(order_id=1, transaction='BREAD,MILK,BISCUIT,CORNFLAKES'), Row(order_id=2, transaction='BREAD,TEA,BOURNVITA'), Row(order_id=3, transaction='JAM,MAGGI,BREAD,MILK'), Row(order_id=4, transaction='MAGGI,TEA,BISCUIT'), Row(order_id=5, transaction='BREAD,TEA,BOURNVITA'), Row(order_id=6, transaction='MAGGI,TEA,CORNFLAKES'), Row(order_id=7, transaction='MAGGI,BREAD,TEA,BISCUIT'), Row(order_id=8, transaction='JAM,MAGGI,BREAD,TEA'), Row(order_id=9, transaction='BREAD,MILK'), Row(order_id=10, transaction='COFFEE,COCK,BISCUIT,CORNFLAKES'), Row(order_id=11, transaction='COFFEE,COCK,BISCUIT,CORNFLAKES'), Row(order_id=12, transaction='COFFEE,SUGER,BOURNVITA'), Row(order_id=13, transaction='BREAD,COFFEE,COCK'), Row(order_id=14, transaction='BREAD,SUGER,BISCUIT'), Row(order_id=15, transaction='COFFEE,SUGER,CORNFLAKES'), Row(order_id=16, transaction='BREAD,SUGER,BOURNVITA'), Row(order_id=17, transaction='BREAD,COFFEE,SUGER'), Row(order_id=18, transaction='BREAD,COFFEE,SUGER'), Row(order_id=19, transaction='TEA,MILK,COFFEE,CORNFLAKES')]\n",
            "\n",
            "Mapped products:\n",
            "\t [('MILK', 1), ('BREAD', 1), ('BISCUIT', 1), ('BREAD', 1), ('MILK', 1), ('BISCUIT', 1), ('CORNFLAKES', 1), ('BREAD', 1), ('TEA', 1), ('BOURNVITA', 1), ('JAM', 1), ('MAGGI', 1), ('BREAD', 1), ('MILK', 1), ('MAGGI', 1), ('TEA', 1), ('BISCUIT', 1), ('BREAD', 1), ('TEA', 1), ('BOURNVITA', 1), ('MAGGI', 1), ('TEA', 1), ('CORNFLAKES', 1), ('MAGGI', 1), ('BREAD', 1), ('TEA', 1), ('BISCUIT', 1), ('JAM', 1), ('MAGGI', 1), ('BREAD', 1), ('TEA', 1), ('BREAD', 1), ('MILK', 1), ('COFFEE', 1), ('COCK', 1), ('BISCUIT', 1), ('CORNFLAKES', 1), ('COFFEE', 1), ('COCK', 1), ('BISCUIT', 1), ('CORNFLAKES', 1), ('COFFEE', 1), ('SUGER', 1), ('BOURNVITA', 1), ('BREAD', 1), ('COFFEE', 1), ('COCK', 1), ('BREAD', 1), ('SUGER', 1), ('BISCUIT', 1), ('COFFEE', 1), ('SUGER', 1), ('CORNFLAKES', 1), ('BREAD', 1), ('SUGER', 1), ('BOURNVITA', 1), ('BREAD', 1), ('COFFEE', 1), ('SUGER', 1), ('BREAD', 1), ('COFFEE', 1), ('SUGER', 1), ('TEA', 1), ('MILK', 1), ('COFFEE', 1), ('CORNFLAKES', 1)]\n",
            "\n",
            "Reduced (merged) products:\n",
            "\t [('MILK', 5), ('BREAD', 13), ('BISCUIT', 7), ('CORNFLAKES', 6), ('TEA', 7), ('BOURNVITA', 4), ('JAM', 2), ('MAGGI', 5), ('COFFEE', 8), ('COCK', 3), ('SUGER', 6)]\n",
            "\n",
            "Visualizing as a dataframe:\n",
            "+----------+-------------+\n",
            "|   product|count_product|\n",
            "+----------+-------------+\n",
            "|      MILK|            5|\n",
            "|     BREAD|           13|\n",
            "|   BISCUIT|            7|\n",
            "|CORNFLAKES|            6|\n",
            "|       TEA|            7|\n",
            "| BOURNVITA|            4|\n",
            "|       JAM|            2|\n",
            "|     MAGGI|            5|\n",
            "|    COFFEE|            8|\n",
            "|      COCK|            3|\n",
            "|     SUGER|            6|\n",
            "+----------+-------------+\n",
            "\n"
          ]
        }
      ],
      "source": [
        "from pyspark.sql import SparkSession\n",
        "from pyspark.sql.functions import monotonically_increasing_id\n",
        "\n",
        "def map_to_product(row):\n",
        "    \"\"\"\n",
        "    Map each transaction into a set of KEY-VALUE elements.\n",
        "    The KEY is the word (product) itself and the VALUE is its number of apparitions.\n",
        "    \"\"\"\n",
        "    products = row.transaction.split(',') # split products from the column transaction\n",
        "    for p in products:\n",
        "        yield (p, 1)\n",
        "\n",
        "def reduce_product_by_key(value1, value2):\n",
        "    \"Reduce the mapped objects to unique words by merging (summing ) their values\"\n",
        "    return value1+value2\n",
        "\n",
        "# Initializates a object of SparkSession class, main entry point to Spark's funcionalites\n",
        "spark = SparkSession.builder.getOrCreate()\n",
        "\n",
        "# Read a grocery dataset\n",
        "grocery = spark.read.csv(ROOT + \"GroceryDataset.csv\") \\\n",
        "              .withColumnRenamed('_c0', 'transaction') \\\n",
        "              .select(\"*\").withColumn(\"order_id\", monotonically_increasing_id())\n",
        "\n",
        "grocery = grocery.select(\"order_id\", \"transaction\")\n",
        "\n",
        "print(\"Grocery dataset\")\n",
        "grocery.show()\n",
        "\n",
        "# Obtain a RDD object to call a map function\n",
        "grocery_rdd = grocery.rdd\n",
        "print(\"Grocery dataframe as a RDD object (list of Row objects):\\n\\t\", grocery_rdd.collect())\n",
        "\n",
        "# Map function to identify all products\n",
        "grocery_rdd = grocery_rdd.flatMap(map_to_product)\n",
        "print(\"\\nMapped products:\\n\\t\", grocery_rdd.collect())\n",
        "\n",
        "# Reduce function to merge values of elements that share the same KEY\n",
        "grocery_rdd = grocery_rdd.reduceByKey(reduce_product_by_key)\n",
        "print(\"\\nReduced (merged) products:\\n\\t\", grocery_rdd.collect())\n",
        "\n",
        "print(\"\\nVisualizing as a dataframe:\")\n",
        "grocery_rdd.toDF([\"product\", \"count_product\"]).show()"
      ]
    },
    {
      "cell_type": "markdown",
      "metadata": {
        "id": "PpJGQmzXMazz"
      },
      "source": [
        "### 1.2 Travailler avec Spark Dataframe / Working with Spark Dataframes\n",
        "\n",
        "Dans l'exemple ci-dessus, nous avons brièvement utilisé une classe Dataframe de Spark, mais uniquement pour obtenir un objet RDD avec ``toy.rdd`` et pour aficher les données sous forme de tableau structuré avec le ``show ()`` une fonction. Cependant, [Dataframe](http://spark.apache.org/docs/latest/api/python/) est une partie cruciale de la version actuelle de Spark et est construit sur l'API RDD. Il s'agit d'une collection distribuée de lignes sous des colonnes nommées, identique à une table dans une base de données relationnelle. Le Dataframe de Spark fonctionne de la même manière que [Pandas](https://pandas.pydata.org/pandas-docs/stable/reference/api/pandas.DataFrame.html). En fait, nous pouvons exporter (obtenir) une Dataframe Spark vers (à partir de) ​​une Dataframe pandas avec la fonction ``toPandas()``  (``spark.createDataFrame``).\n",
        "\n",
        "Une fonctionnalité centrale du Dataframe est de bénéficier du [Spark SQL](https://spark.apache.org/docs/latest/sql-programming-guide.html#sql), un module qui permet des requêtes SQL sur des données structurées. Par exemple, le même « exemple de comptage de produits » aurait pu être implémenté comme une séquence d'opérations SQL sur les données:"
      ]
    },
    {
      "cell_type": "code",
      "execution_count": 5,
      "metadata": {
        "id": "oFL6BuIDMaz0",
        "colab": {
          "base_uri": "https://localhost:8080/"
        },
        "outputId": "c6f45ab8-2d17-44ba-db2d-d7e89e7e9c2f"
      },
      "outputs": [
        {
          "output_type": "stream",
          "name": "stdout",
          "text": [
            "New column 'products': exploding the transaction's products to a new row\n",
            "+--------+--------------------+----------+\n",
            "|order_id|         transaction|  products|\n",
            "+--------+--------------------+----------+\n",
            "|       0|  MILK,BREAD,BISCUIT|      MILK|\n",
            "|       0|  MILK,BREAD,BISCUIT|     BREAD|\n",
            "|       0|  MILK,BREAD,BISCUIT|   BISCUIT|\n",
            "|       1|BREAD,MILK,BISCUI...|     BREAD|\n",
            "|       1|BREAD,MILK,BISCUI...|      MILK|\n",
            "|       1|BREAD,MILK,BISCUI...|   BISCUIT|\n",
            "|       1|BREAD,MILK,BISCUI...|CORNFLAKES|\n",
            "|       2| BREAD,TEA,BOURNVITA|     BREAD|\n",
            "|       2| BREAD,TEA,BOURNVITA|       TEA|\n",
            "|       2| BREAD,TEA,BOURNVITA| BOURNVITA|\n",
            "|       3|JAM,MAGGI,BREAD,MILK|       JAM|\n",
            "|       3|JAM,MAGGI,BREAD,MILK|     MAGGI|\n",
            "|       3|JAM,MAGGI,BREAD,MILK|     BREAD|\n",
            "|       3|JAM,MAGGI,BREAD,MILK|      MILK|\n",
            "|       4|   MAGGI,TEA,BISCUIT|     MAGGI|\n",
            "|       4|   MAGGI,TEA,BISCUIT|       TEA|\n",
            "|       4|   MAGGI,TEA,BISCUIT|   BISCUIT|\n",
            "|       5| BREAD,TEA,BOURNVITA|     BREAD|\n",
            "|       5| BREAD,TEA,BOURNVITA|       TEA|\n",
            "|       5| BREAD,TEA,BOURNVITA| BOURNVITA|\n",
            "+--------+--------------------+----------+\n",
            "only showing top 20 rows\n",
            "\n",
            "Couting unique products:\n",
            "+----------+-------------+\n",
            "|  products|count_product|\n",
            "+----------+-------------+\n",
            "|     BREAD|           13|\n",
            "|    COFFEE|            8|\n",
            "|       TEA|            7|\n",
            "|   BISCUIT|            7|\n",
            "|CORNFLAKES|            6|\n",
            "|     SUGER|            6|\n",
            "|      MILK|            5|\n",
            "|     MAGGI|            5|\n",
            "| BOURNVITA|            4|\n",
            "|      COCK|            3|\n",
            "|       JAM|            2|\n",
            "+----------+-------------+\n",
            "\n"
          ]
        }
      ],
      "source": [
        "import pyspark.sql.functions as f\n",
        "\n",
        "# Creates a new column, products, with all products appering in each transaction\n",
        "print('New column \\'products\\': exploding the transaction\\'s products to a new row')\n",
        "df_grocery = grocery.withColumn('products', f.explode(f.split(grocery.transaction, ',')))\n",
        "df_grocery.show()\n",
        "\n",
        "# Performs a select query and group rows by the product name, aggreagating by counting\n",
        "print('Couting unique products:')\n",
        "df_grocery.select(df_grocery.products)\\\n",
        "      .groupBy(df_grocery.products)\\\n",
        "      .agg(f.count('products').alias('count_product'))\\\n",
        "      .sort('count_product', ascending=False)\\\n",
        "      .show()"
      ]
    },
    {
      "cell_type": "markdown",
      "metadata": {
        "id": "W4HFs8CVMaz3"
      },
      "source": [
        "En outre, les mêmes opérations SQL effectuées ci-dessus auraient pu être effectuées avec une requête en langage SQL traditionnel comme indiqué ci-dessous:"
      ]
    },
    {
      "cell_type": "code",
      "execution_count": 6,
      "metadata": {
        "id": "O_eYl-7tMaz3",
        "colab": {
          "base_uri": "https://localhost:8080/"
        },
        "outputId": "c3c320d9-a59f-4a62-b87c-7a02fd4ed6bb"
      },
      "outputs": [
        {
          "output_type": "stream",
          "name": "stdout",
          "text": [
            "+----------+-------------+\n",
            "|  products|product_count|\n",
            "+----------+-------------+\n",
            "|     BREAD|           13|\n",
            "|    COFFEE|            8|\n",
            "|       TEA|            7|\n",
            "|   BISCUIT|            7|\n",
            "|CORNFLAKES|            6|\n",
            "|     SUGER|            6|\n",
            "|      MILK|            5|\n",
            "|     MAGGI|            5|\n",
            "| BOURNVITA|            4|\n",
            "|      COCK|            3|\n",
            "|       JAM|            2|\n",
            "+----------+-------------+\n",
            "\n"
          ]
        }
      ],
      "source": [
        "# Creates a relational table Grocery in the Spark session\n",
        "df_grocery.createOrReplaceTempView(\"Grocery\")\n",
        "\n",
        "spark.sql(\"SELECT t.products, COUNT(t.products) AS product_count\"\n",
        "          \" FROM Grocery t\"\n",
        "          \" GROUP BY t.products\"\n",
        "          \" ORDER BY product_count DESC\").show()"
      ]
    },
    {
      "cell_type": "markdown",
      "metadata": {
        "id": "MTMT2RlqQBj9"
      },
      "source": [
        "Ces concepts SQL sont mentionnés ici car ils nous seront utiles lors du TP, principalement dans la section 3, pour manipuler les données du supermarché, qui sont structurées en tableaux. Ainsi, si vous n'êtes pas familier avec SQL, il est recommandé de suivre un [tutoriel](https://www.w3schools.com/sql/) pour comprendre les bases."
      ]
    },
    {
      "cell_type": "markdown",
      "metadata": {
        "id": "s1oZzC-ZQEE0"
      },
      "source": [
        "\n",
        "\n",
        "## 2. Algorithme MBA (50 points)\n",
        "Les sections suivantes expliquent comment développer chaque étape de l'algorithme MapReduce pour notre application commerciale. La figure workflow.pdf illustre chaque étape de l'algorithme."
      ]
    },
    {
      "cell_type": "markdown",
      "metadata": {
        "id": "T0Onr2NxMaz8"
      },
      "source": [
        "\n",
        "\n",
        "### 2.1 Map to Patterns (10 points)\n",
        "Pour un sous-ensemble de transactions (c'est-à-dire les lignes de notre grocery dataset), chaque transaction doit être **mappée** vers un ensemble de *motifs d'achat* trouvés dans la transaction. Formellement, ces motifs sont des sous-ensembles de produits qui représentent un groupe d'articles achetés ensemble.\n",
        "\n",
        "Pour le framework MapReduce, chaque motif doit être créé comme un élément *KEY-VALUE*, où la KEY peut prendre la forme d'un singleton, d'une paire ou d'un trio de produits présents dans la transaction. Plus précisément, pour chaque transaction, la fonction de mappage doit générer tous les sous-ensembles **UNIQUE** possibles de taille **UN, DEUX ou TROIS**. La VALEUR associée à chaque KEY est le nombre de fois que la KEY est apparue dans la transaction (si nous supposons qu'aucun produit n'apparaît plus d'une fois dans la transaction, cette valeur est toujours égale à un).\n",
        "\n",
        "Maintenant, implémentez la fonction **map_to_patterns** qui reçoit une transaction (une ligne du dataset) et retourne les motifs trouvés dans la transaction. Les éléments mappés sont un tuple (KEY, VALUE), où KEY est également un tuple de noms de produits. Il est crucial de noter que, puisque chaque entrée (transaction) de la fonction MAP produira **plus** un élément KEY-VALUE, un *flatMap* doit être invoqué pour cette étape. Pour le \"grocery dataset\", la sortie attendue est :\n",
        "\n",
        "<pre style=\"align:center; border:1px solid black;font-size: 8pt; line-height: 1.1; height: auto; width: 20em; padding-left:1px\">\n",
        "<code>\n",
        "+-----------------------------------+-----------+\n",
        "|patterns                           |occurrences|\n",
        "+-----------------------------------+-----------+\n",
        "|('BISCUIT', 'BREAD')               |1          |\n",
        "|('BISCUIT', 'BREAD')               |1          |\n",
        "|('BISCUIT', 'BREAD')               |1          |\n",
        "|('BISCUIT', 'BREAD')               |1          |\n",
        "|('BISCUIT', 'BREAD', 'CORNFLAKES') |1          |\n",
        "|('BISCUIT', 'BREAD', 'MAGGI')      |1          |\n",
        "|('BISCUIT', 'BREAD', 'MILK')       |1          |\n",
        "|('BISCUIT', 'BREAD', 'MILK')       |1          |\n",
        "|('BISCUIT', 'BREAD', 'SUGER')      |1          |\n",
        "|('BISCUIT', 'BREAD', 'TEA')        |1          |\n",
        "|('BISCUIT', 'COCK')                |1          |\n",
        "|('BISCUIT', 'COCK')                |1          |\n",
        "|('BISCUIT', 'COCK', 'COFFEE')      |1          |\n",
        "|('BISCUIT', 'COCK', 'COFFEE')      |1          |\n",
        "|('BISCUIT', 'COCK', 'CORNFLAKES')  |1          |\n",
        "|('BISCUIT', 'COCK', 'CORNFLAKES')  |1          |\n",
        "|('BISCUIT', 'COFFEE')              |1          |\n",
        "|('BISCUIT', 'COFFEE')              |1          |\n",
        "|('BISCUIT', 'COFFEE', 'CORNFLAKES')|1          |\n",
        "|('BISCUIT', 'COFFEE', 'CORNFLAKES')|1          |\n",
        "|('BISCUIT', 'CORNFLAKES')          |1          |\n",
        "|('BISCUIT', 'CORNFLAKES')          |1          |\n",
        "|('BISCUIT', 'CORNFLAKES')          |1          |\n",
        "|('BISCUIT', 'CORNFLAKES', 'MILK')  |1          |\n",
        "|('BISCUIT', 'MAGGI')               |1          |\n",
        "|('BISCUIT', 'MAGGI')               |1          |\n",
        "|('BISCUIT', 'MAGGI', 'TEA')        |1          |\n",
        "|('BISCUIT', 'MAGGI', 'TEA')        |1          |\n",
        "|('BISCUIT', 'MILK')                |1          |\n",
        "|('BISCUIT', 'MILK')                |1          |\n",
        "|('BISCUIT', 'SUGER')               |1          |\n",
        "|('BISCUIT', 'TEA')                 |1          |\n",
        "|('BISCUIT', 'TEA')                 |1          |\n",
        "|('BISCUIT',)                       |1          |\n",
        "|('BISCUIT',)                       |1          |\n",
        "|('BISCUIT',)                       |1          |\n",
        "|('BISCUIT',)                       |1          |\n",
        "|('BISCUIT',)                       |1          |\n",
        "|('BISCUIT',)                       |1          |\n",
        "|('BISCUIT',)                       |1          |\n",
        "|('BOURNVITA', 'BREAD')             |1          |\n",
        "|('BOURNVITA', 'BREAD')             |1          |\n",
        "|('BOURNVITA', 'BREAD')             |1          |\n",
        "|('BOURNVITA', 'BREAD', 'SUGER')    |1          |\n",
        "|('BOURNVITA', 'BREAD', 'TEA')      |1          |\n",
        "|('BOURNVITA', 'BREAD', 'TEA')      |1          |\n",
        "|('BOURNVITA', 'COFFEE')            |1          |\n",
        "|('BOURNVITA', 'COFFEE', 'SUGER')   |1          |\n",
        "|('BOURNVITA', 'SUGER')             |1          |\n",
        "|('BOURNVITA', 'SUGER')             |1          |\n",
        "+-----------------------------------+-----------+\n",
        "</code>\n",
        "</pre>\n",
        "\n",
        "Votre sortie devra ainsi être **exactement** la même, sans quoi aucun point ne pourra vous être attribué pour cette question."
      ]
    },
    {
      "cell_type": "code",
      "execution_count": 7,
      "metadata": {
        "id": "BscKKDAjMaz9",
        "colab": {
          "base_uri": "https://localhost:8080/"
        },
        "outputId": "425ff392-3fb9-45c4-cb8f-e62c25f43a0f"
      },
      "outputs": [
        {
          "output_type": "stream",
          "name": "stdout",
          "text": [
            "+-----------------------------------+-----------+\n",
            "|patterns                           |occurrences|\n",
            "+-----------------------------------+-----------+\n",
            "|('BISCUIT', 'BREAD')               |1          |\n",
            "|('BISCUIT', 'BREAD')               |1          |\n",
            "|('BISCUIT', 'BREAD')               |1          |\n",
            "|('BISCUIT', 'BREAD')               |1          |\n",
            "|('BISCUIT', 'BREAD', 'CORNFLAKES') |1          |\n",
            "|('BISCUIT', 'BREAD', 'MAGGI')      |1          |\n",
            "|('BISCUIT', 'BREAD', 'MILK')       |1          |\n",
            "|('BISCUIT', 'BREAD', 'MILK')       |1          |\n",
            "|('BISCUIT', 'BREAD', 'SUGER')      |1          |\n",
            "|('BISCUIT', 'BREAD', 'TEA')        |1          |\n",
            "|('BISCUIT', 'COCK')                |1          |\n",
            "|('BISCUIT', 'COCK')                |1          |\n",
            "|('BISCUIT', 'COCK', 'COFFEE')      |1          |\n",
            "|('BISCUIT', 'COCK', 'COFFEE')      |1          |\n",
            "|('BISCUIT', 'COCK', 'CORNFLAKES')  |1          |\n",
            "|('BISCUIT', 'COCK', 'CORNFLAKES')  |1          |\n",
            "|('BISCUIT', 'COFFEE')              |1          |\n",
            "|('BISCUIT', 'COFFEE')              |1          |\n",
            "|('BISCUIT', 'COFFEE', 'CORNFLAKES')|1          |\n",
            "|('BISCUIT', 'COFFEE', 'CORNFLAKES')|1          |\n",
            "|('BISCUIT', 'CORNFLAKES')          |1          |\n",
            "|('BISCUIT', 'CORNFLAKES')          |1          |\n",
            "|('BISCUIT', 'CORNFLAKES')          |1          |\n",
            "|('BISCUIT', 'CORNFLAKES', 'MILK')  |1          |\n",
            "|('BISCUIT', 'MAGGI')               |1          |\n",
            "|('BISCUIT', 'MAGGI')               |1          |\n",
            "|('BISCUIT', 'MAGGI', 'TEA')        |1          |\n",
            "|('BISCUIT', 'MAGGI', 'TEA')        |1          |\n",
            "|('BISCUIT', 'MILK')                |1          |\n",
            "|('BISCUIT', 'MILK')                |1          |\n",
            "|('BISCUIT', 'SUGER')               |1          |\n",
            "|('BISCUIT', 'TEA')                 |1          |\n",
            "|('BISCUIT', 'TEA')                 |1          |\n",
            "|('BISCUIT',)                       |1          |\n",
            "|('BISCUIT',)                       |1          |\n",
            "|('BISCUIT',)                       |1          |\n",
            "|('BISCUIT',)                       |1          |\n",
            "|('BISCUIT',)                       |1          |\n",
            "|('BISCUIT',)                       |1          |\n",
            "|('BISCUIT',)                       |1          |\n",
            "|('BOURNVITA', 'BREAD')             |1          |\n",
            "|('BOURNVITA', 'BREAD')             |1          |\n",
            "|('BOURNVITA', 'BREAD')             |1          |\n",
            "|('BOURNVITA', 'BREAD', 'SUGER')    |1          |\n",
            "|('BOURNVITA', 'BREAD', 'TEA')      |1          |\n",
            "|('BOURNVITA', 'BREAD', 'TEA')      |1          |\n",
            "|('BOURNVITA', 'COFFEE')            |1          |\n",
            "|('BOURNVITA', 'COFFEE', 'SUGER')   |1          |\n",
            "|('BOURNVITA', 'SUGER')             |1          |\n",
            "|('BOURNVITA', 'SUGER')             |1          |\n",
            "+-----------------------------------+-----------+\n",
            "only showing top 50 rows\n",
            "\n"
          ]
        }
      ],
      "source": [
        "from itertools import combinations\n",
        "\n",
        "def format_tuples(pattern):\n",
        "    \"\"\"\n",
        "    Used for visualizition.\n",
        "    Transforms tuples to a string since Dataframe does not support column of tuples with different sizes\n",
        "    (a,b,c) -> '(a,b,c)'\n",
        "    \"\"\"\n",
        "    return (str(pattern[0]), str(pattern[1]))\n",
        "\n",
        "\n",
        "def map_to_patterns(row):\n",
        "    \"\"\"\n",
        "    Maps each transaction into a set of KEY-VALUE elements.\n",
        "    The KEY is a tuple representing a subset of products (size 1, 2, or 3),\n",
        "    and the VALUE is the number of occurrences (always 1).\n",
        "    \"\"\"\n",
        "    # Check if the input row has a 'transaction' attribute or is already a list\n",
        "    products = row.transaction.split(',') if hasattr(row, 'transaction') else row\n",
        "\n",
        "    # Generate subsets of size 1, 2, and 3\n",
        "    for size in range(1, 4):\n",
        "        for subset in combinations(products, size):\n",
        "            yield (tuple(sorted(subset)), 1)  # Sort the subset to ensure consistency\n",
        "\n",
        "grocery_rdd = grocery.rdd\n",
        "patterns_rdd = grocery_rdd.flatMap(map_to_patterns)\n",
        "\n",
        "# # Output as dataframe\n",
        "patterns_rdd.map(format_tuples).toDF(['patterns', 'occurrences']).sort(['patterns']).show(50, truncate=False)"
      ]
    },
    {
      "cell_type": "markdown",
      "metadata": {
        "id": "YvvRw0plMa0B"
      },
      "source": [
        "### 2.2  Reduce patterns  (5 points)\n",
        "Une fois que différents processeurs ont traité les transactions, une fonction **reduce** doit être appelée pour combiner des KEYS identiques (le sous-ensemble de produits) et calculer le nombre total de ses occurrences dans le dataset. En d'autres termes, cette procédure de réduction doit additionner la *VALUE* de chaque KEY identique.\n",
        "\n",
        "Créez ci-dessous une fonction **reduce_patterns** qui doit additionner la VALUE de chaque motif.\n",
        "Pour le \"grocery dataset\", la sortie attendue est:\n",
        "\n",
        "<pre style=\"align:center; border:1px solid black;font-size: 8pt; line-height: 1.1; height: auto; width: 28em; padding-left:5px\">\n",
        "<code>\n",
        "+-----------------------------------+--------------------+\n",
        "|patterns                           |combined_occurrences|\n",
        "+-----------------------------------+--------------------+\n",
        "|('BISCUIT', 'BREAD')               |4                   |\n",
        "|('BISCUIT', 'BREAD', 'CORNFLAKES') |1                   |\n",
        "|('BISCUIT', 'BREAD', 'MAGGI')      |1                   |\n",
        "|('BISCUIT', 'BREAD', 'MILK')       |2                   |\n",
        "|('BISCUIT', 'BREAD', 'SUGER')      |1                   |\n",
        "|('BISCUIT', 'BREAD', 'TEA')        |1                   |\n",
        "|('BISCUIT', 'COCK')                |2                   |\n",
        "|('BISCUIT', 'COCK', 'COFFEE')      |2                   |\n",
        "|('BISCUIT', 'COCK', 'CORNFLAKES')  |2                   |\n",
        "|('BISCUIT', 'COFFEE')              |2                   |\n",
        "|('BISCUIT', 'COFFEE', 'CORNFLAKES')|2                   |\n",
        "|('BISCUIT', 'CORNFLAKES')          |3                   |\n",
        "|('BISCUIT', 'CORNFLAKES', 'MILK')  |1                   |\n",
        "|('BISCUIT', 'MAGGI')               |2                   |\n",
        "|('BISCUIT', 'MAGGI', 'TEA')        |2                   |\n",
        "|('BISCUIT', 'MILK')                |2                   |\n",
        "|('BISCUIT', 'SUGER')               |1                   |\n",
        "|('BISCUIT', 'TEA')                 |2                   |\n",
        "|('BISCUIT',)                       |7                   |\n",
        "|('BOURNVITA', 'BREAD')             |3                   |\n",
        "|('BOURNVITA', 'BREAD', 'SUGER')    |1                   |\n",
        "|('BOURNVITA', 'BREAD', 'TEA')      |2                   |\n",
        "|('BOURNVITA', 'COFFEE')            |1                   |\n",
        "|('BOURNVITA', 'COFFEE', 'SUGER')   |1                   |\n",
        "|('BOURNVITA', 'SUGER')             |2                   |\n",
        "|('BOURNVITA', 'TEA')               |2                   |\n",
        "|('BOURNVITA',)                     |4                   |\n",
        "|('BREAD', 'COCK')                  |1                   |\n",
        "|('BREAD', 'COCK', 'COFFEE')        |1                   |\n",
        "|('BREAD', 'COFFEE')                |3                   |\n",
        "|('BREAD', 'COFFEE', 'SUGER')       |2                   |\n",
        "|('BREAD', 'CORNFLAKES')            |1                   |\n",
        "|('BREAD', 'CORNFLAKES', 'MILK')    |1                   |\n",
        "|('BREAD', 'JAM')                   |2                   |\n",
        "|('BREAD', 'JAM', 'MAGGI')          |2                   |\n",
        "|('BREAD', 'JAM', 'MILK')           |1                   |\n",
        "|('BREAD', 'JAM', 'TEA')            |1                   |\n",
        "|('BREAD', 'MAGGI')                 |3                   |\n",
        "|('BREAD', 'MAGGI', 'MILK')         |1                   |\n",
        "|('BREAD', 'MAGGI', 'TEA')          |2                   |\n",
        "|('BREAD', 'MILK')                  |4                   |\n",
        "|('BREAD', 'SUGER')                 |4                   |\n",
        "|('BREAD', 'TEA')                   |4                   |\n",
        "|('BREAD',)                         |13                  |\n",
        "|('COCK', 'COFFEE')                 |3                   |\n",
        "|('COCK', 'COFFEE', 'CORNFLAKES')   |2                   |\n",
        "|('COCK', 'CORNFLAKES')             |2                   |\n",
        "|('COCK',)                          |3                   |\n",
        "|('COFFEE', 'CORNFLAKES')           |4                   |\n",
        "|('COFFEE', 'CORNFLAKES', 'MILK')   |1                   |\n",
        "+-----------------------------------+--------------------+\n",
        "</code>\n",
        "</pre>\n",
        "\n",
        "Votre sortie devra ainsi être **exactement** la même, sans quoi aucun point ne pourra vous être attribué pour cette question.\n"
      ]
    },
    {
      "cell_type": "code",
      "execution_count": 8,
      "metadata": {
        "id": "67IKY_4MMa0C",
        "colab": {
          "base_uri": "https://localhost:8080/"
        },
        "outputId": "bac50e6a-68b0-4535-baa5-221712a6de4e"
      },
      "outputs": [
        {
          "output_type": "stream",
          "name": "stdout",
          "text": [
            "+-----------------------------------+--------------------+\n",
            "|patterns                           |combined_occurrences|\n",
            "+-----------------------------------+--------------------+\n",
            "|('BISCUIT', 'BREAD')               |4                   |\n",
            "|('BISCUIT', 'BREAD', 'CORNFLAKES') |1                   |\n",
            "|('BISCUIT', 'BREAD', 'MAGGI')      |1                   |\n",
            "|('BISCUIT', 'BREAD', 'MILK')       |2                   |\n",
            "|('BISCUIT', 'BREAD', 'SUGER')      |1                   |\n",
            "|('BISCUIT', 'BREAD', 'TEA')        |1                   |\n",
            "|('BISCUIT', 'COCK')                |2                   |\n",
            "|('BISCUIT', 'COCK', 'COFFEE')      |2                   |\n",
            "|('BISCUIT', 'COCK', 'CORNFLAKES')  |2                   |\n",
            "|('BISCUIT', 'COFFEE')              |2                   |\n",
            "|('BISCUIT', 'COFFEE', 'CORNFLAKES')|2                   |\n",
            "|('BISCUIT', 'CORNFLAKES')          |3                   |\n",
            "|('BISCUIT', 'CORNFLAKES', 'MILK')  |1                   |\n",
            "|('BISCUIT', 'MAGGI')               |2                   |\n",
            "|('BISCUIT', 'MAGGI', 'TEA')        |2                   |\n",
            "|('BISCUIT', 'MILK')                |2                   |\n",
            "|('BISCUIT', 'SUGER')               |1                   |\n",
            "|('BISCUIT', 'TEA')                 |2                   |\n",
            "|('BISCUIT',)                       |7                   |\n",
            "|('BOURNVITA', 'BREAD')             |3                   |\n",
            "|('BOURNVITA', 'BREAD', 'SUGER')    |1                   |\n",
            "|('BOURNVITA', 'BREAD', 'TEA')      |2                   |\n",
            "|('BOURNVITA', 'COFFEE')            |1                   |\n",
            "|('BOURNVITA', 'COFFEE', 'SUGER')   |1                   |\n",
            "|('BOURNVITA', 'SUGER')             |2                   |\n",
            "|('BOURNVITA', 'TEA')               |2                   |\n",
            "|('BOURNVITA',)                     |4                   |\n",
            "|('BREAD', 'COCK')                  |1                   |\n",
            "|('BREAD', 'COCK', 'COFFEE')        |1                   |\n",
            "|('BREAD', 'COFFEE')                |3                   |\n",
            "|('BREAD', 'COFFEE', 'SUGER')       |2                   |\n",
            "|('BREAD', 'CORNFLAKES')            |1                   |\n",
            "|('BREAD', 'CORNFLAKES', 'MILK')    |1                   |\n",
            "|('BREAD', 'JAM')                   |2                   |\n",
            "|('BREAD', 'JAM', 'MAGGI')          |2                   |\n",
            "|('BREAD', 'JAM', 'MILK')           |1                   |\n",
            "|('BREAD', 'JAM', 'TEA')            |1                   |\n",
            "|('BREAD', 'MAGGI')                 |3                   |\n",
            "|('BREAD', 'MAGGI', 'MILK')         |1                   |\n",
            "|('BREAD', 'MAGGI', 'TEA')          |2                   |\n",
            "|('BREAD', 'MILK')                  |4                   |\n",
            "|('BREAD', 'SUGER')                 |4                   |\n",
            "|('BREAD', 'TEA')                   |4                   |\n",
            "|('BREAD',)                         |13                  |\n",
            "|('COCK', 'COFFEE')                 |3                   |\n",
            "|('COCK', 'COFFEE', 'CORNFLAKES')   |2                   |\n",
            "|('COCK', 'CORNFLAKES')             |2                   |\n",
            "|('COCK',)                          |3                   |\n",
            "|('COFFEE', 'CORNFLAKES')           |4                   |\n",
            "|('COFFEE', 'CORNFLAKES', 'MILK')   |1                   |\n",
            "+-----------------------------------+--------------------+\n",
            "only showing top 50 rows\n",
            "\n"
          ]
        }
      ],
      "source": [
        "def reduce_patterns(v1, v2):\n",
        "    \"\"\"\n",
        "    Reduces the mapped objects by summing their values.\n",
        "    This function combines the occurrences of identical patterns.\n",
        "    \"\"\"\n",
        "    return v1 + v2\n",
        "\n",
        "combined_patterns_rdd = patterns_rdd.reduceByKey(reduce_patterns)\n",
        "\n",
        "# Output as dataframe\n",
        "combined_patterns_rdd.map(format_tuples).toDF(['patterns', 'combined_occurrences']).sort(['patterns']).show(50, truncate=False)"
      ]
    },
    {
      "cell_type": "markdown",
      "metadata": {
        "id": "6BME1VugMa0F"
      },
      "source": [
        "### 2.3 Map to subpatterns (15 points)\n",
        "Ensuite, une autre fonction **map** doit être appliquée pour générer des sous-motifs. Encore une fois, les sous-motifs sont des éléments KEY-VALUE, où la KEY est également un sous-ensemble de produits. Cependant, la création de la KEY du sous-motif est une procédure différente. Cette fois, l'idée est de décomposer la liste des produits de chaque motif (KEY), de supprimer un produit à la fois et de produire la liste résultante en tant que nouvelle clé de sous-motif.\n",
        "\n",
        "Par exemple, pour un modèle donné $P$ avec trois produits, $p_1, p_2$ et $p_3$, trois nouvelles clés de sous-motifs vont être créées: (i) supprimer $p_1$ et retourner ($p_2, p_3$) ; (ii) supprimer $p_2$ et retourner ($p_1, p_3$); et (iii) supprimer $p_3$ et retourner ($p_1, p_2$).\n",
        "\n",
        "De plus, la structure VALUE du sous-motif sera également différente. Au lieu d'une seule valeur entière unique comme nous l'avons eu dans les motifs, cette fois un *tuple* devrait être créé pour le sous-motif VALUE. Ce tuple contient le produit qui a été retiré lors de la remise de la KEY et le nombre de fois que le motif est apparu. Par exemple ci-dessus, les valeurs doivent être ($p_1,v$), ($p_2,v$) et ($p_3,v $), respectivement, où $v$ est la VALEUR du motif.\n",
        "\n",
        "L'idée derrière les sous-motif est de créer **des règles** telles que : lorsque les produits de KEY ont été achetés, l'article présent dans la VALEUR a également été acheté *v* fois. En outre, chaque motif doit également produire un sous-motif dans lequel la clé est la même liste de produits du motif, mais la valeur est un tuple avec un produit nul (None) et le nombre de fois que le motif est apparu. Cet élément sera utile pour garder une trace du nombre de fois où un tel motif a été trouvé et sera utilisé ultérieurement pour calculer la valeur de confiance lors de la génération des règles d'association.\n",
        "\n",
        "Maintenant, implémentez la fonction **map_to_subpatterns** qui reçoit un motif et produit tous les sous-motif trouvés. Encore une fois, chaque entrée (motif) générera plus d'un élément KEY-VALUE, puis une fonction flatMap doit être appelée.\n",
        "\n",
        "Pour le \"grocery dataset\", la sortie attendue est:\n",
        "\n",
        "<pre style=\"align:center; border:1px solid black;font-size: 8pt; line-height: 1.1; height: auto; width: 20em; padding-left:5px\">\n",
        "<code>\n",
        "+-----------------------------------+-----------------+\n",
        "|subpatterns                        |rules            |\n",
        "+-----------------------------------+-----------------+\n",
        "|('BISCUIT', 'BREAD')               |(None, 4)        |\n",
        "|('BISCUIT', 'BREAD')               |('MILK', 2)      |\n",
        "|('BISCUIT', 'BREAD')               |('CORNFLAKES', 1)|\n",
        "|('BISCUIT', 'BREAD')               |('MAGGI', 1)     |\n",
        "|('BISCUIT', 'BREAD')               |('TEA', 1)       |\n",
        "|('BISCUIT', 'BREAD')               |('SUGER', 1)     |\n",
        "|('BISCUIT', 'BREAD', 'CORNFLAKES') |(None, 1)        |\n",
        "|('BISCUIT', 'BREAD', 'MAGGI')      |(None, 1)        |\n",
        "|('BISCUIT', 'BREAD', 'MILK')       |(None, 2)        |\n",
        "|('BISCUIT', 'BREAD', 'SUGER')      |(None, 1)        |\n",
        "|('BISCUIT', 'BREAD', 'TEA')        |(None, 1)        |\n",
        "|('BISCUIT', 'COCK')                |(None, 2)        |\n",
        "|('BISCUIT', 'COCK')                |('COFFEE', 2)    |\n",
        "|('BISCUIT', 'COCK')                |('CORNFLAKES', 2)|\n",
        "|('BISCUIT', 'COCK', 'COFFEE')      |(None, 2)        |\n",
        "|('BISCUIT', 'COCK', 'CORNFLAKES')  |(None, 2)        |\n",
        "|('BISCUIT', 'COFFEE')              |(None, 2)        |\n",
        "|('BISCUIT', 'COFFEE')              |('COCK', 2)      |\n",
        "|('BISCUIT', 'COFFEE')              |('CORNFLAKES', 2)|\n",
        "|('BISCUIT', 'COFFEE', 'CORNFLAKES')|(None, 2)        |\n",
        "|('BISCUIT', 'CORNFLAKES')          |(None, 3)        |\n",
        "|('BISCUIT', 'CORNFLAKES')          |('BREAD', 1)     |\n",
        "|('BISCUIT', 'CORNFLAKES')          |('MILK', 1)      |\n",
        "|('BISCUIT', 'CORNFLAKES')          |('COCK', 2)      |\n",
        "|('BISCUIT', 'CORNFLAKES')          |('COFFEE', 2)    |\n",
        "|('BISCUIT', 'CORNFLAKES', 'MILK')  |(None, 1)        |\n",
        "|('BISCUIT', 'MAGGI')               |(None, 2)        |\n",
        "|('BISCUIT', 'MAGGI')               |('TEA', 2)       |\n",
        "|('BISCUIT', 'MAGGI')               |('BREAD', 1)     |\n",
        "|('BISCUIT', 'MAGGI', 'TEA')        |(None, 2)        |\n",
        "|('BISCUIT', 'MILK')                |(None, 2)        |\n",
        "|('BISCUIT', 'MILK')                |('BREAD', 2)     |\n",
        "|('BISCUIT', 'MILK')                |('CORNFLAKES', 1)|\n",
        "|('BISCUIT', 'SUGER')               |(None, 1)        |\n",
        "|('BISCUIT', 'SUGER')               |('BREAD', 1)     |\n",
        "|('BISCUIT', 'TEA')                 |(None, 2)        |\n",
        "|('BISCUIT', 'TEA')                 |('MAGGI', 2)     |\n",
        "|('BISCUIT', 'TEA')                 |('BREAD', 1)     |\n",
        "|('BISCUIT',)                       |(None, 7)        |\n",
        "|('BISCUIT',)                       |('BREAD', 4)     |\n",
        "|('BISCUIT',)                       |('MILK', 2)      |\n",
        "|('BISCUIT',)                       |('CORNFLAKES', 3)|\n",
        "|('BISCUIT',)                       |('MAGGI', 2)     |\n",
        "|('BISCUIT',)                       |('TEA', 2)       |\n",
        "|('BISCUIT',)                       |('COCK', 2)      |\n",
        "|('BISCUIT',)                       |('COFFEE', 2)    |\n",
        "|('BISCUIT',)                       |('SUGER', 1)     |\n",
        "|('BOURNVITA', 'BREAD')             |(None, 3)        |\n",
        "|('BOURNVITA', 'BREAD')             |('TEA', 2)       |\n",
        "|('BOURNVITA', 'BREAD')             |('SUGER', 1)     |\n",
        "+-----------------------------------+-----------------+\n",
        "</code>\n",
        "</pre>\n",
        "\n",
        "Votre sortie devra ainsi être **exactement** la même, sans quoi aucun point ne pourra vous être attribué pour cette question."
      ]
    },
    {
      "cell_type": "code",
      "execution_count": 9,
      "metadata": {
        "id": "t8aLrdMuMa0G",
        "colab": {
          "base_uri": "https://localhost:8080/"
        },
        "outputId": "d351596b-5fc7-49f8-ff71-587e7da99482"
      },
      "outputs": [
        {
          "output_type": "stream",
          "name": "stdout",
          "text": [
            "+-----------------------------------+-----------------+\n",
            "|subpatterns                        |rules            |\n",
            "+-----------------------------------+-----------------+\n",
            "|('BISCUIT', 'BREAD')               |(None, 4)        |\n",
            "|('BISCUIT', 'BREAD')               |('MILK', 2)      |\n",
            "|('BISCUIT', 'BREAD')               |('CORNFLAKES', 1)|\n",
            "|('BISCUIT', 'BREAD')               |('MAGGI', 1)     |\n",
            "|('BISCUIT', 'BREAD')               |('TEA', 1)       |\n",
            "|('BISCUIT', 'BREAD')               |('SUGER', 1)     |\n",
            "|('BISCUIT', 'BREAD', 'CORNFLAKES') |(None, 1)        |\n",
            "|('BISCUIT', 'BREAD', 'MAGGI')      |(None, 1)        |\n",
            "|('BISCUIT', 'BREAD', 'MILK')       |(None, 2)        |\n",
            "|('BISCUIT', 'BREAD', 'SUGER')      |(None, 1)        |\n",
            "|('BISCUIT', 'BREAD', 'TEA')        |(None, 1)        |\n",
            "|('BISCUIT', 'COCK')                |(None, 2)        |\n",
            "|('BISCUIT', 'COCK')                |('COFFEE', 2)    |\n",
            "|('BISCUIT', 'COCK')                |('CORNFLAKES', 2)|\n",
            "|('BISCUIT', 'COCK', 'COFFEE')      |(None, 2)        |\n",
            "|('BISCUIT', 'COCK', 'CORNFLAKES')  |(None, 2)        |\n",
            "|('BISCUIT', 'COFFEE')              |(None, 2)        |\n",
            "|('BISCUIT', 'COFFEE')              |('COCK', 2)      |\n",
            "|('BISCUIT', 'COFFEE')              |('CORNFLAKES', 2)|\n",
            "|('BISCUIT', 'COFFEE', 'CORNFLAKES')|(None, 2)        |\n",
            "|('BISCUIT', 'CORNFLAKES')          |(None, 3)        |\n",
            "|('BISCUIT', 'CORNFLAKES')          |('BREAD', 1)     |\n",
            "|('BISCUIT', 'CORNFLAKES')          |('MILK', 1)      |\n",
            "|('BISCUIT', 'CORNFLAKES')          |('COFFEE', 2)    |\n",
            "|('BISCUIT', 'CORNFLAKES')          |('COCK', 2)      |\n",
            "|('BISCUIT', 'CORNFLAKES', 'MILK')  |(None, 1)        |\n",
            "|('BISCUIT', 'MAGGI')               |(None, 2)        |\n",
            "|('BISCUIT', 'MAGGI')               |('TEA', 2)       |\n",
            "|('BISCUIT', 'MAGGI')               |('BREAD', 1)     |\n",
            "|('BISCUIT', 'MAGGI', 'TEA')        |(None, 2)        |\n",
            "|('BISCUIT', 'MILK')                |(None, 2)        |\n",
            "|('BISCUIT', 'MILK')                |('BREAD', 2)     |\n",
            "|('BISCUIT', 'MILK')                |('CORNFLAKES', 1)|\n",
            "|('BISCUIT', 'SUGER')               |(None, 1)        |\n",
            "|('BISCUIT', 'SUGER')               |('BREAD', 1)     |\n",
            "|('BISCUIT', 'TEA')                 |('MAGGI', 2)     |\n",
            "|('BISCUIT', 'TEA')                 |('BREAD', 1)     |\n",
            "|('BISCUIT', 'TEA')                 |(None, 2)        |\n",
            "|('BISCUIT',)                       |('COCK', 2)      |\n",
            "|('BISCUIT',)                       |('MAGGI', 2)     |\n",
            "|('BISCUIT',)                       |(None, 7)        |\n",
            "|('BISCUIT',)                       |('BREAD', 4)     |\n",
            "|('BISCUIT',)                       |('MILK', 2)      |\n",
            "|('BISCUIT',)                       |('COFFEE', 2)    |\n",
            "|('BISCUIT',)                       |('CORNFLAKES', 3)|\n",
            "|('BISCUIT',)                       |('TEA', 2)       |\n",
            "|('BISCUIT',)                       |('SUGER', 1)     |\n",
            "|('BOURNVITA', 'BREAD')             |(None, 3)        |\n",
            "|('BOURNVITA', 'BREAD')             |('TEA', 2)       |\n",
            "|('BOURNVITA', 'BREAD')             |('SUGER', 1)     |\n",
            "+-----------------------------------+-----------------+\n",
            "only showing top 50 rows\n",
            "\n"
          ]
        }
      ],
      "source": [
        "from copy import deepcopy\n",
        "\n",
        "def map_to_subpatterns(pattern):\n",
        "    \"\"\"\n",
        "    Maps each pattern to its subpatterns.\n",
        "    Each subpattern is a KEY-VALUE pair where:\n",
        "    - KEY: A subset of the original pattern (excluding one product at a time).\n",
        "    - VALUE: A tuple containing the excluded product and the count of the original pattern.\n",
        "    \"\"\"\n",
        "    key, count = pattern  # Unpack the pattern into its key (tuple of products) and count\n",
        "    key_list = list(key)  # Convert the tuple to a list for manipulation\n",
        "\n",
        "    # Yield the original pattern with a None value for the excluded product\n",
        "    yield (tuple(sorted(key_list)), (None, count))\n",
        "\n",
        "    # Generate subpatterns by excluding one product at a time\n",
        "    for i in range(len(key_list)):\n",
        "        subpattern = deepcopy(key_list)\n",
        "        excluded_product = subpattern.pop(i)  # Remove one product\n",
        "        yield (tuple(sorted(subpattern)), (excluded_product, count))\n",
        "\n",
        "subpatterns_rdd = combined_patterns_rdd.flatMap(map_to_subpatterns)\n",
        "\n",
        "# Output as dataframe\n",
        "subpatterns_rdd.map(format_tuples).toDF(['subpatterns', 'rules']).sort(['subpatterns']).show(50, truncate=False)"
      ]
    },
    {
      "cell_type": "markdown",
      "metadata": {
        "id": "jl6TWh8rMa0J"
      },
      "source": [
        "### 2.4 Reduce Subpatterns (5 points)\n",
        "\n",
        "Encore une fois, une fonction **reduce** est nécessaire pour regrouper tous les sous-motif par leur KEY. L'objectif de cette procédure de réduction est de créer une liste de toutes les **règles** apparues dans KEY. Par conséquent, la sortie attendue résultant de cette fonction de réduction est également un élément KEY-VALUE, où la clé est la KEY du sous-motif et la valeur est un groupe contenant toutes les valeurs des sous-motif qui partagent la même clé.\n",
        "\n",
        "Pour le \"grocery dataset\", la sortie attendue est:\n",
        "\n",
        "<pre style=\"align:center; border:1px solid black;font-size: 8pt; line-height: 1.1; height: auto; width: 50em; padding-left:5px\">\n",
        "<code>\n",
        "+-----------------------------------+--------------------------------------------------------------------------------------------------------------------------------------------------------------+\n",
        "|subpatterns                        |combined_rules                                                                                                                                                |\n",
        "+-----------------------------------+--------------------------------------------------------------------------------------------------------------------------------------------------------------+\n",
        "|('BISCUIT', 'BREAD')               |[(None, 4), ('MILK', 2), ('CORNFLAKES', 1), ('MAGGI', 1), ('TEA', 1), ('SUGER', 1)]                                                                           |\n",
        "|('BISCUIT', 'BREAD', 'CORNFLAKES') |[(None, 1)]                                                                                                                                                   |\n",
        "|('BISCUIT', 'BREAD', 'MAGGI')      |[(None, 1)]                                                                                                                                                   |\n",
        "|('BISCUIT', 'BREAD', 'MILK')       |[(None, 2)]                                                                                                                                                   |\n",
        "|('BISCUIT', 'BREAD', 'SUGER')      |[(None, 1)]                                                                                                                                                   |\n",
        "|('BISCUIT', 'BREAD', 'TEA')        |[(None, 1)]                                                                                                                                                   |\n",
        "|('BISCUIT', 'COCK')                |[(None, 2), ('COFFEE', 2), ('CORNFLAKES', 2)]                                                                                                                 |\n",
        "|('BISCUIT', 'COCK', 'COFFEE')      |[(None, 2)]                                                                                                                                                   |\n",
        "|('BISCUIT', 'COCK', 'CORNFLAKES')  |[(None, 2)]                                                                                                                                                   |\n",
        "|('BISCUIT', 'COFFEE')              |[(None, 2), ('COCK', 2), ('CORNFLAKES', 2)]                                                                                                                   |\n",
        "|('BISCUIT', 'COFFEE', 'CORNFLAKES')|[(None, 2)]                                                                                                                                                   |\n",
        "|('BISCUIT', 'CORNFLAKES')          |[(None, 3), ('BREAD', 1), ('MILK', 1), ('COCK', 2), ('COFFEE', 2)]                                                                                            |\n",
        "|('BISCUIT', 'CORNFLAKES', 'MILK')  |[(None, 1)]                                                                                                                                                   |\n",
        "|('BISCUIT', 'MAGGI')               |[(None, 2), ('TEA', 2), ('BREAD', 1)]                                                                                                                         |\n",
        "|('BISCUIT', 'MAGGI', 'TEA')        |[(None, 2)]                                                                                                                                                   |\n",
        "|('BISCUIT', 'MILK')                |[(None, 2), ('BREAD', 2), ('CORNFLAKES', 1)]                                                                                                                  |\n",
        "|('BISCUIT', 'SUGER')               |[(None, 1), ('BREAD', 1)]                                                                                                                                     |\n",
        "|('BISCUIT', 'TEA')                 |[(None, 2), ('MAGGI', 2), ('BREAD', 1)]                                                                                                                       |\n",
        "|('BISCUIT',)                       |[(None, 7), ('BREAD', 4), ('MILK', 2), ('CORNFLAKES', 3), ('MAGGI', 2), ('TEA', 2), ('COCK', 2), ('COFFEE', 2), ('SUGER', 1)]                                 |\n",
        "|('BOURNVITA', 'BREAD')             |[(None, 3), ('TEA', 2), ('SUGER', 1)]                                                                                                                         |\n",
        "|('BOURNVITA', 'BREAD', 'SUGER')    |[(None, 1)]                                                                                                                                                   |\n",
        "|('BOURNVITA', 'BREAD', 'TEA')      |[(None, 2)]                                                                                                                                                   |\n",
        "|('BOURNVITA', 'COFFEE')            |[(None, 1), ('SUGER', 1)]                                                                                                                                     |\n",
        "|('BOURNVITA', 'COFFEE', 'SUGER')   |[(None, 1)]                                                                                                                                                   |\n",
        "|('BOURNVITA', 'SUGER')             |[(None, 2), ('COFFEE', 1), ('BREAD', 1)]                                                                                                                      |\n",
        "|('BOURNVITA', 'TEA')               |[(None, 2), ('BREAD', 2)]                                                                                                                                     |\n",
        "|('BOURNVITA',)                     |[(None, 4), ('BREAD', 3), ('TEA', 2), ('COFFEE', 1), ('SUGER', 2)]                                                                                            |\n",
        "|('BREAD', 'COCK')                  |[(None, 1), ('COFFEE', 1)]                                                                                                                                    |\n",
        "|('BREAD', 'COCK', 'COFFEE')        |[(None, 1)]                                                                                                                                                   |\n",
        "|('BREAD', 'COFFEE')                |[(None, 3), ('COCK', 1), ('SUGER', 2)]                                                                                                                        |\n",
        "|('BREAD', 'COFFEE', 'SUGER')       |[(None, 2)]                                                                                                                                                   |\n",
        "|('BREAD', 'CORNFLAKES')            |[(None, 1), ('BISCUIT', 1), ('MILK', 1)]                                                                                                                      |\n",
        "|('BREAD', 'CORNFLAKES', 'MILK')    |[(None, 1)]                                                                                                                                                   |\n",
        "|('BREAD', 'JAM')                   |[(None, 2), ('MAGGI', 2), ('MILK', 1), ('TEA', 1)]                                                                                                            |\n",
        "|('BREAD', 'JAM', 'MAGGI')          |[(None, 2)]                                                                                                                                                   |\n",
        "|('BREAD', 'JAM', 'MILK')           |[(None, 1)]                                                                                                                                                   |\n",
        "|('BREAD', 'JAM', 'TEA')            |[(None, 1)]                                                                                                                                                   |\n",
        "|('BREAD', 'MAGGI')                 |[(None, 3), ('JAM', 2), ('MILK', 1), ('BISCUIT', 1), ('TEA', 2)]                                                                                              |\n",
        "|('BREAD', 'MAGGI', 'MILK')         |[(None, 1)]                                                                                                                                                   |\n",
        "|('BREAD', 'MAGGI', 'TEA')          |[(None, 2)]                                                                                                                                                   |\n",
        "|('BREAD', 'MILK')                  |[(None, 4), ('BISCUIT', 2), ('CORNFLAKES', 1), ('JAM', 1), ('MAGGI', 1)]                                                                                      |\n",
        "|('BREAD', 'SUGER')                 |[(None, 4), ('BISCUIT', 1), ('BOURNVITA', 1), ('COFFEE', 2)]                                                                                                  |\n",
        "|('BREAD', 'TEA')                   |[(None, 4), ('BOURNVITA', 2), ('BISCUIT', 1), ('MAGGI', 2), ('JAM', 1)]                                                                                       |\n",
        "|('BREAD',)                         |[(None, 13), ('BISCUIT', 4), ('MILK', 4), ('CORNFLAKES', 1), ('BOURNVITA', 3), ('TEA', 4), ('JAM', 2), ('MAGGI', 3), ('COCK', 1), ('COFFEE', 3), ('SUGER', 4)]|\n",
        "|('COCK', 'COFFEE')                 |[(None, 3), ('BISCUIT', 2), ('CORNFLAKES', 2), ('BREAD', 1)]                                                                                                  |\n",
        "|('COCK', 'COFFEE', 'CORNFLAKES')   |[(None, 2)]                                                                                                                                                   |\n",
        "|('COCK', 'CORNFLAKES')             |[(None, 2), ('BISCUIT', 2), ('COFFEE', 2)]                                                                                                                    |\n",
        "|('COCK',)                          |[(None, 3), ('BISCUIT', 2), ('COFFEE', 3), ('CORNFLAKES', 2), ('BREAD', 1)]                                                                                   |\n",
        "|('COFFEE', 'CORNFLAKES')           |[(None, 4), ('BISCUIT', 2), ('COCK', 2), ('SUGER', 1), ('MILK', 1), ('TEA', 1)]                                                                               |\n",
        "|('COFFEE', 'CORNFLAKES', 'MILK')   |[(None, 1)]                                                                                                                                                   |\n",
        "+-----------------------------------+--------------------------------------------------------------------------------------------------------------------------------------------------------------+\n",
        "</code>\n",
        "</pre>\n",
        "\n",
        "Votre sortie devra ainsi être **exactement** la même, sans quoi aucun point ne pourra vous être attribué pour cette question.\n"
      ]
    },
    {
      "cell_type": "code",
      "execution_count": 10,
      "metadata": {
        "id": "LOP-SVIhMa0J",
        "colab": {
          "base_uri": "https://localhost:8080/"
        },
        "outputId": "01491eeb-7c95-4e50-9d92-43c80b15c736"
      },
      "outputs": [
        {
          "output_type": "stream",
          "name": "stdout",
          "text": [
            "+-----------------------------------+--------------------------------------------------------------------------------------------------------------------------------------------------------------+\n",
            "|subpatterns                        |combined_rules                                                                                                                                                |\n",
            "+-----------------------------------+--------------------------------------------------------------------------------------------------------------------------------------------------------------+\n",
            "|('BISCUIT', 'BREAD')               |[(None, 4), ('MILK', 2), ('CORNFLAKES', 1), ('MAGGI', 1), ('TEA', 1), ('SUGER', 1)]                                                                           |\n",
            "|('BISCUIT', 'BREAD', 'CORNFLAKES') |[(None, 1)]                                                                                                                                                   |\n",
            "|('BISCUIT', 'BREAD', 'MAGGI')      |[(None, 1)]                                                                                                                                                   |\n",
            "|('BISCUIT', 'BREAD', 'MILK')       |[(None, 2)]                                                                                                                                                   |\n",
            "|('BISCUIT', 'BREAD', 'SUGER')      |[(None, 1)]                                                                                                                                                   |\n",
            "|('BISCUIT', 'BREAD', 'TEA')        |[(None, 1)]                                                                                                                                                   |\n",
            "|('BISCUIT', 'COCK')                |[(None, 2), ('COFFEE', 2), ('CORNFLAKES', 2)]                                                                                                                 |\n",
            "|('BISCUIT', 'COCK', 'COFFEE')      |[(None, 2)]                                                                                                                                                   |\n",
            "|('BISCUIT', 'COCK', 'CORNFLAKES')  |[(None, 2)]                                                                                                                                                   |\n",
            "|('BISCUIT', 'COFFEE')              |[(None, 2), ('COCK', 2), ('CORNFLAKES', 2)]                                                                                                                   |\n",
            "|('BISCUIT', 'COFFEE', 'CORNFLAKES')|[(None, 2)]                                                                                                                                                   |\n",
            "|('BISCUIT', 'CORNFLAKES')          |[(None, 3), ('BREAD', 1), ('MILK', 1), ('COFFEE', 2), ('COCK', 2)]                                                                                            |\n",
            "|('BISCUIT', 'CORNFLAKES', 'MILK')  |[(None, 1)]                                                                                                                                                   |\n",
            "|('BISCUIT', 'MAGGI')               |[(None, 2), ('TEA', 2), ('BREAD', 1)]                                                                                                                         |\n",
            "|('BISCUIT', 'MAGGI', 'TEA')        |[(None, 2)]                                                                                                                                                   |\n",
            "|('BISCUIT', 'MILK')                |[(None, 2), ('BREAD', 2), ('CORNFLAKES', 1)]                                                                                                                  |\n",
            "|('BISCUIT', 'SUGER')               |[(None, 1), ('BREAD', 1)]                                                                                                                                     |\n",
            "|('BISCUIT', 'TEA')                 |[(None, 2), ('MAGGI', 2), ('BREAD', 1)]                                                                                                                       |\n",
            "|('BISCUIT',)                       |[(None, 7), ('MILK', 2), ('BREAD', 4), ('CORNFLAKES', 3), ('MAGGI', 2), ('TEA', 2), ('COFFEE', 2), ('COCK', 2), ('SUGER', 1)]                                 |\n",
            "|('BOURNVITA', 'BREAD')             |[(None, 3), ('TEA', 2), ('SUGER', 1)]                                                                                                                         |\n",
            "|('BOURNVITA', 'BREAD', 'SUGER')    |[(None, 1)]                                                                                                                                                   |\n",
            "|('BOURNVITA', 'BREAD', 'TEA')      |[(None, 2)]                                                                                                                                                   |\n",
            "|('BOURNVITA', 'COFFEE')            |[(None, 1), ('SUGER', 1)]                                                                                                                                     |\n",
            "|('BOURNVITA', 'COFFEE', 'SUGER')   |[(None, 1)]                                                                                                                                                   |\n",
            "|('BOURNVITA', 'SUGER')             |[(None, 2), ('COFFEE', 1), ('BREAD', 1)]                                                                                                                      |\n",
            "|('BOURNVITA', 'TEA')               |[(None, 2), ('BREAD', 2)]                                                                                                                                     |\n",
            "|('BOURNVITA',)                     |[(None, 4), ('BREAD', 3), ('TEA', 2), ('COFFEE', 1), ('SUGER', 2)]                                                                                            |\n",
            "|('BREAD', 'COCK')                  |[(None, 1), ('COFFEE', 1)]                                                                                                                                    |\n",
            "|('BREAD', 'COCK', 'COFFEE')        |[(None, 1)]                                                                                                                                                   |\n",
            "|('BREAD', 'COFFEE')                |[(None, 3), ('COCK', 1), ('SUGER', 2)]                                                                                                                        |\n",
            "|('BREAD', 'COFFEE', 'SUGER')       |[(None, 2)]                                                                                                                                                   |\n",
            "|('BREAD', 'CORNFLAKES')            |[(None, 1), ('MILK', 1), ('BISCUIT', 1)]                                                                                                                      |\n",
            "|('BREAD', 'CORNFLAKES', 'MILK')    |[(None, 1)]                                                                                                                                                   |\n",
            "|('BREAD', 'JAM')                   |[(None, 2), ('MAGGI', 2), ('MILK', 1), ('TEA', 1)]                                                                                                            |\n",
            "|('BREAD', 'JAM', 'MAGGI')          |[(None, 2)]                                                                                                                                                   |\n",
            "|('BREAD', 'JAM', 'MILK')           |[(None, 1)]                                                                                                                                                   |\n",
            "|('BREAD', 'JAM', 'TEA')            |[(None, 1)]                                                                                                                                                   |\n",
            "|('BREAD', 'MAGGI')                 |[(None, 3), ('JAM', 2), ('MILK', 1), ('TEA', 2), ('BISCUIT', 1)]                                                                                              |\n",
            "|('BREAD', 'MAGGI', 'MILK')         |[(None, 1)]                                                                                                                                                   |\n",
            "|('BREAD', 'MAGGI', 'TEA')          |[(None, 2)]                                                                                                                                                   |\n",
            "|('BREAD', 'MILK')                  |[(None, 4), ('BISCUIT', 2), ('CORNFLAKES', 1), ('JAM', 1), ('MAGGI', 1)]                                                                                      |\n",
            "|('BREAD', 'SUGER')                 |[(None, 4), ('BISCUIT', 1), ('BOURNVITA', 1), ('COFFEE', 2)]                                                                                                  |\n",
            "|('BREAD', 'TEA')                   |[(None, 4), ('BOURNVITA', 2), ('MAGGI', 2), ('BISCUIT', 1), ('JAM', 1)]                                                                                       |\n",
            "|('BREAD',)                         |[(None, 13), ('MILK', 4), ('BISCUIT', 4), ('CORNFLAKES', 1), ('TEA', 4), ('BOURNVITA', 3), ('JAM', 2), ('MAGGI', 3), ('COFFEE', 3), ('COCK', 1), ('SUGER', 4)]|\n",
            "|('COCK', 'COFFEE')                 |[(None, 3), ('BISCUIT', 2), ('CORNFLAKES', 2), ('BREAD', 1)]                                                                                                  |\n",
            "|('COCK', 'COFFEE', 'CORNFLAKES')   |[(None, 2)]                                                                                                                                                   |\n",
            "|('COCK', 'CORNFLAKES')             |[(None, 2), ('COFFEE', 2), ('BISCUIT', 2)]                                                                                                                    |\n",
            "|('COCK',)                          |[(None, 3), ('COFFEE', 3), ('BISCUIT', 2), ('CORNFLAKES', 2), ('BREAD', 1)]                                                                                   |\n",
            "|('COFFEE', 'CORNFLAKES')           |[(None, 4), ('COCK', 2), ('BISCUIT', 2), ('SUGER', 1), ('TEA', 1), ('MILK', 1)]                                                                               |\n",
            "|('COFFEE', 'CORNFLAKES', 'MILK')   |[(None, 1)]                                                                                                                                                   |\n",
            "+-----------------------------------+--------------------------------------------------------------------------------------------------------------------------------------------------------------+\n",
            "only showing top 50 rows\n",
            "\n"
          ]
        }
      ],
      "source": [
        "combined_rules = subpatterns_rdd.groupByKey().mapValues(list)\n",
        "\n",
        "# Output as dataframe\n",
        "combined_rules.map(format_tuples).toDF(['subpatterns', 'combined_rules']).sort(['subpatterns']).show(50, truncate=False)"
      ]
    },
    {
      "cell_type": "markdown",
      "metadata": {
        "id": "Uh69x3a8Ma0P"
      },
      "source": [
        "### 2.5. Map to Association Rules (15 points)\n",
        "\n",
        "Enfin, la dernière étape de l'algorithme consiste à créer les règles d'association pour effectuer la MBA. Le but de cette fonction Map est de calculer le niveau **de confiance** de l'achat d'un produit, sachant qu'il y a déjà un ensemble de produits dans le panier. Ainsi, la KEY du sous-motif est l'ensemble des produits placés dans le panier et, pour chaque produit présent dans la liste des règles, c'est-à-dire dans la VALEUR, la confiance peut être calculée comme :\n",
        "\n",
        "\\begin{align*}\n",
        "\\frac{\\text{nombre de fois où le produit a été acheté avec KEY}}{\\text{nombre de fois où la KEY est apparue}}\n",
        "\\end{align*}\n",
        "\n",
        "Pour l'exemple donné dans la figure \"workflow\", *le café* a été acheté 20 fois et, dans 17 d'entre eux, le *lait* a été acheté ensemble. Ensuite, le niveau de confiance pour acheter du *lait* sachant que *le café* est dans le panier est $\\frac{17}{20}=0,85$, ce qui signifie que dans 85% des cas où le café a été acheté, le lait a aussi été acheté.\n",
        "\n",
        "Implémentez la fonction **map_to_assoc_rules** qui calcule le niveau de confiance pour chaque sous-motif.\n",
        "\n",
        "Pour le \"grocery dataset\", la sortie attendue est:\n",
        "\n",
        "<pre style=\"align:center; border:1px solid black;font-size: 8pt; line-height: 1.1; height: auto; width: 57em; padding-left:5px\">\n",
        "<code>\n",
        "+-----------------------------------+----------------------------------------------------------------------------------------------------------------------------------------------------------------------------------------------------------------------------------------------------------------------------------------------------------------------------------+\n",
        "|patterns                           |association_rules                                                                                                                                                                                                                                                                                                                 |\n",
        "+-----------------------------------+----------------------------------------------------------------------------------------------------------------------------------------------------------------------------------------------------------------------------------------------------------------------------------------------------------------------------------+\n",
        "|('BISCUIT', 'BREAD')               |[('MILK', 0.5), ('CORNFLAKES', 0.25), ('MAGGI', 0.25), ('TEA', 0.25), ('SUGER', 0.25)]                                                                                                                                                                                                                                            |\n",
        "|('BISCUIT', 'BREAD', 'CORNFLAKES') |[]                                                                                                                                                                                                                                                                                                                                |\n",
        "|('BISCUIT', 'BREAD', 'MAGGI')      |[]                                                                                                                                                                                                                                                                                                                                |\n",
        "|('BISCUIT', 'BREAD', 'MILK')       |[]                                                                                                                                                                                                                                                                                                                                |\n",
        "|('BISCUIT', 'BREAD', 'SUGER')      |[]                                                                                                                                                                                                                                                                                                                                |\n",
        "|('BISCUIT', 'BREAD', 'TEA')        |[]                                                                                                                                                                                                                                                                                                                                |\n",
        "|('BISCUIT', 'COCK')                |[('COFFEE', 1.0), ('CORNFLAKES', 1.0)]                                                                                                                                                                                                                                                                                            |\n",
        "|('BISCUIT', 'COCK', 'COFFEE')      |[]                                                                                                                                                                                                                                                                                                                                |\n",
        "|('BISCUIT', 'COCK', 'CORNFLAKES')  |[]                                                                                                                                                                                                                                                                                                                                |\n",
        "|('BISCUIT', 'COFFEE')              |[('COCK', 1.0), ('CORNFLAKES', 1.0)]                                                                                                                                                                                                                                                                                              |\n",
        "|('BISCUIT', 'COFFEE', 'CORNFLAKES')|[]                                                                                                                                                                                                                                                                                                                                |\n",
        "|('BISCUIT', 'CORNFLAKES')          |[('BREAD', 0.3333333333333333), ('MILK', 0.3333333333333333), ('COCK', 0.6666666666666666), ('COFFEE', 0.6666666666666666)]                                                                                                                                                                                                       |\n",
        "|('BISCUIT', 'CORNFLAKES', 'MILK')  |[]                                                                                                                                                                                                                                                                                                                                |\n",
        "|('BISCUIT', 'MAGGI')               |[('TEA', 1.0), ('BREAD', 0.5)]                                                                                                                                                                                                                                                                                                    |\n",
        "|('BISCUIT', 'MAGGI', 'TEA')        |[]                                                                                                                                                                                                                                                                                                                                |\n",
        "|('BISCUIT', 'MILK')                |[('BREAD', 1.0), ('CORNFLAKES', 0.5)]                                                                                                                                                                                                                                                                                             |\n",
        "|('BISCUIT', 'SUGER')               |[('BREAD', 1.0)]                                                                                                                                                                                                                                                                                                                  |\n",
        "|('BISCUIT', 'TEA')                 |[('MAGGI', 1.0), ('BREAD', 0.5)]                                                                                                                                                                                                                                                                                                  |\n",
        "|('BISCUIT',)                       |[('BREAD', 0.5714285714285714), ('MILK', 0.2857142857142857), ('CORNFLAKES', 0.42857142857142855), ('MAGGI', 0.2857142857142857), ('TEA', 0.2857142857142857), ('COCK', 0.2857142857142857), ('COFFEE', 0.2857142857142857), ('SUGER', 0.14285714285714285)]                                                                      |\n",
        "|('BOURNVITA', 'BREAD')             |[('TEA', 0.6666666666666666), ('SUGER', 0.3333333333333333)]                                                                                                                                                                                                                                                                      |\n",
        "|('BOURNVITA', 'BREAD', 'SUGER')    |[]                                                                                                                                                                                                                                                                                                                                |\n",
        "|('BOURNVITA', 'BREAD', 'TEA')      |[]                                                                                                                                                                                                                                                                                                                                |\n",
        "|('BOURNVITA', 'COFFEE')            |[('SUGER', 1.0)]                                                                                                                                                                                                                                                                                                                  |\n",
        "|('BOURNVITA', 'COFFEE', 'SUGER')   |[]                                                                                                                                                                                                                                                                                                                                |\n",
        "|('BOURNVITA', 'SUGER')             |[('COFFEE', 0.5), ('BREAD', 0.5)]                                                                                                                                                                                                                                                                                                 |\n",
        "|('BOURNVITA', 'TEA')               |[('BREAD', 1.0)]                                                                                                                                                                                                                                                                                                                  |\n",
        "|('BOURNVITA',)                     |[('BREAD', 0.75), ('TEA', 0.5), ('COFFEE', 0.25), ('SUGER', 0.5)]                                                                                                                                                                                                                                                                 |\n",
        "|('BREAD', 'COCK')                  |[('COFFEE', 1.0)]                                                                                                                                                                                                                                                                                                                 |\n",
        "|('BREAD', 'COCK', 'COFFEE')        |[]                                                                                                                                                                                                                                                                                                                                |\n",
        "|('BREAD', 'COFFEE')                |[('COCK', 0.3333333333333333), ('SUGER', 0.6666666666666666)]                                                                                                                                                                                                                                                                     |\n",
        "|('BREAD', 'COFFEE', 'SUGER')       |[]                                                                                                                                                                                                                                                                                                                                |\n",
        "|('BREAD', 'CORNFLAKES')            |[('BISCUIT', 1.0), ('MILK', 1.0)]                                                                                                                                                                                                                                                                                                 |\n",
        "|('BREAD', 'CORNFLAKES', 'MILK')    |[]                                                                                                                                                                                                                                                                                                                                |\n",
        "|('BREAD', 'JAM')                   |[('MAGGI', 1.0), ('MILK', 0.5), ('TEA', 0.5)]                                                                                                                                                                                                                                                                                     |\n",
        "|('BREAD', 'JAM', 'MAGGI')          |[]                                                                                                                                                                                                                                                                                                                                |\n",
        "|('BREAD', 'JAM', 'MILK')           |[]                                                                                                                                                                                                                                                                                                                                |\n",
        "|('BREAD', 'JAM', 'TEA')            |[]                                                                                                                                                                                                                                                                                                                                |\n",
        "|('BREAD', 'MAGGI')                 |[('JAM', 0.6666666666666666), ('MILK', 0.3333333333333333), ('BISCUIT', 0.3333333333333333), ('TEA', 0.6666666666666666)]                                                                                                                                                                                                         |\n",
        "|('BREAD', 'MAGGI', 'MILK')         |[]                                                                                                                                                                                                                                                                                                                                |\n",
        "|('BREAD', 'MAGGI', 'TEA')          |[]                                                                                                                                                                                                                                                                                                                                |\n",
        "|('BREAD', 'MILK')                  |[('BISCUIT', 0.5), ('CORNFLAKES', 0.25), ('JAM', 0.25), ('MAGGI', 0.25)]                                                                                                                                                                                                                                                          |\n",
        "|('BREAD', 'SUGER')                 |[('BISCUIT', 0.25), ('BOURNVITA', 0.25), ('COFFEE', 0.5)]                                                                                                                                                                                                                                                                         |\n",
        "|('BREAD', 'TEA')                   |[('BOURNVITA', 0.5), ('BISCUIT', 0.25), ('MAGGI', 0.5), ('JAM', 0.25)]                                                                                                                                                                                                                                                            |\n",
        "|('BREAD',)                         |[('BISCUIT', 0.3076923076923077), ('MILK', 0.3076923076923077), ('CORNFLAKES', 0.07692307692307693), ('BOURNVITA', 0.23076923076923078), ('TEA', 0.3076923076923077), ('JAM', 0.15384615384615385), ('MAGGI', 0.23076923076923078), ('COCK', 0.07692307692307693), ('COFFEE', 0.23076923076923078), ('SUGER', 0.3076923076923077)]|\n",
        "|('COCK', 'COFFEE')                 |[('BISCUIT', 0.6666666666666666), ('CORNFLAKES', 0.6666666666666666), ('BREAD', 0.3333333333333333)]                                                                                                                                                                                                                              |\n",
        "|('COCK', 'COFFEE', 'CORNFLAKES')   |[]                                                                                                                                                                                                                                                                                                                                |\n",
        "|('COCK', 'CORNFLAKES')             |[('BISCUIT', 1.0), ('COFFEE', 1.0)]                                                                                                                                                                                                                                                                                               |\n",
        "|('COCK',)                          |[('BISCUIT', 0.6666666666666666), ('COFFEE', 1.0), ('CORNFLAKES', 0.6666666666666666), ('BREAD', 0.3333333333333333)]                                                                                                                                                                                                             |\n",
        "|('COFFEE', 'CORNFLAKES')           |[('BISCUIT', 0.5), ('COCK', 0.5), ('SUGER', 0.25), ('MILK', 0.25), ('TEA', 0.25)]                                                                                                                                                                                                                                                 |\n",
        "|('COFFEE', 'CORNFLAKES', 'MILK')   |[]                                                                                                                                                                                                                                                                                                                                |\n",
        "+-----------------------------------+----------------------------------------------------------------------------------------------------------------------------------------------------------------------------------------------------------------------------------------------------------------------------------------------------------------------------------+\n",
        "\n",
        "</code>\n",
        "</pre>\n",
        "\n",
        "Votre sortie devra ainsi être **exactement** la même, sans quoi aucun point ne pourra vous être attribué pour cette question."
      ]
    },
    {
      "cell_type": "code",
      "execution_count": 11,
      "metadata": {
        "id": "DPrbn5CfMa0P",
        "colab": {
          "base_uri": "https://localhost:8080/"
        },
        "outputId": "676d52c2-f0d6-4248-ee5c-fa341ef35de7"
      },
      "outputs": [
        {
          "output_type": "stream",
          "name": "stdout",
          "text": [
            "+-----------------------------------+----------------------------------------------------------------------------------------------------------------------------------------------------------------------------------------------------------------------------------------------------------------------------------------------------------------------------------+\n",
            "|patterns                           |association_rules                                                                                                                                                                                                                                                                                                                 |\n",
            "+-----------------------------------+----------------------------------------------------------------------------------------------------------------------------------------------------------------------------------------------------------------------------------------------------------------------------------------------------------------------------------+\n",
            "|('BISCUIT', 'BREAD')               |[('MILK', 0.5), ('CORNFLAKES', 0.25), ('MAGGI', 0.25), ('TEA', 0.25), ('SUGER', 0.25)]                                                                                                                                                                                                                                            |\n",
            "|('BISCUIT', 'BREAD', 'CORNFLAKES') |[]                                                                                                                                                                                                                                                                                                                                |\n",
            "|('BISCUIT', 'BREAD', 'MAGGI')      |[]                                                                                                                                                                                                                                                                                                                                |\n",
            "|('BISCUIT', 'BREAD', 'MILK')       |[]                                                                                                                                                                                                                                                                                                                                |\n",
            "|('BISCUIT', 'BREAD', 'SUGER')      |[]                                                                                                                                                                                                                                                                                                                                |\n",
            "|('BISCUIT', 'BREAD', 'TEA')        |[]                                                                                                                                                                                                                                                                                                                                |\n",
            "|('BISCUIT', 'COCK')                |[('COFFEE', 1.0), ('CORNFLAKES', 1.0)]                                                                                                                                                                                                                                                                                            |\n",
            "|('BISCUIT', 'COCK', 'COFFEE')      |[]                                                                                                                                                                                                                                                                                                                                |\n",
            "|('BISCUIT', 'COCK', 'CORNFLAKES')  |[]                                                                                                                                                                                                                                                                                                                                |\n",
            "|('BISCUIT', 'COFFEE')              |[('COCK', 1.0), ('CORNFLAKES', 1.0)]                                                                                                                                                                                                                                                                                              |\n",
            "|('BISCUIT', 'COFFEE', 'CORNFLAKES')|[]                                                                                                                                                                                                                                                                                                                                |\n",
            "|('BISCUIT', 'CORNFLAKES')          |[('BREAD', 0.3333333333333333), ('MILK', 0.3333333333333333), ('COFFEE', 0.6666666666666666), ('COCK', 0.6666666666666666)]                                                                                                                                                                                                       |\n",
            "|('BISCUIT', 'CORNFLAKES', 'MILK')  |[]                                                                                                                                                                                                                                                                                                                                |\n",
            "|('BISCUIT', 'MAGGI')               |[('TEA', 1.0), ('BREAD', 0.5)]                                                                                                                                                                                                                                                                                                    |\n",
            "|('BISCUIT', 'MAGGI', 'TEA')        |[]                                                                                                                                                                                                                                                                                                                                |\n",
            "|('BISCUIT', 'MILK')                |[('BREAD', 1.0), ('CORNFLAKES', 0.5)]                                                                                                                                                                                                                                                                                             |\n",
            "|('BISCUIT', 'SUGER')               |[('BREAD', 1.0)]                                                                                                                                                                                                                                                                                                                  |\n",
            "|('BISCUIT', 'TEA')                 |[('MAGGI', 1.0), ('BREAD', 0.5)]                                                                                                                                                                                                                                                                                                  |\n",
            "|('BISCUIT',)                       |[('MILK', 0.2857142857142857), ('BREAD', 0.5714285714285714), ('CORNFLAKES', 0.42857142857142855), ('MAGGI', 0.2857142857142857), ('TEA', 0.2857142857142857), ('COFFEE', 0.2857142857142857), ('COCK', 0.2857142857142857), ('SUGER', 0.14285714285714285)]                                                                      |\n",
            "|('BOURNVITA', 'BREAD')             |[('TEA', 0.6666666666666666), ('SUGER', 0.3333333333333333)]                                                                                                                                                                                                                                                                      |\n",
            "|('BOURNVITA', 'BREAD', 'SUGER')    |[]                                                                                                                                                                                                                                                                                                                                |\n",
            "|('BOURNVITA', 'BREAD', 'TEA')      |[]                                                                                                                                                                                                                                                                                                                                |\n",
            "|('BOURNVITA', 'COFFEE')            |[('SUGER', 1.0)]                                                                                                                                                                                                                                                                                                                  |\n",
            "|('BOURNVITA', 'COFFEE', 'SUGER')   |[]                                                                                                                                                                                                                                                                                                                                |\n",
            "|('BOURNVITA', 'SUGER')             |[('COFFEE', 0.5), ('BREAD', 0.5)]                                                                                                                                                                                                                                                                                                 |\n",
            "|('BOURNVITA', 'TEA')               |[('BREAD', 1.0)]                                                                                                                                                                                                                                                                                                                  |\n",
            "|('BOURNVITA',)                     |[('BREAD', 0.75), ('TEA', 0.5), ('COFFEE', 0.25), ('SUGER', 0.5)]                                                                                                                                                                                                                                                                 |\n",
            "|('BREAD', 'COCK')                  |[('COFFEE', 1.0)]                                                                                                                                                                                                                                                                                                                 |\n",
            "|('BREAD', 'COCK', 'COFFEE')        |[]                                                                                                                                                                                                                                                                                                                                |\n",
            "|('BREAD', 'COFFEE')                |[('COCK', 0.3333333333333333), ('SUGER', 0.6666666666666666)]                                                                                                                                                                                                                                                                     |\n",
            "|('BREAD', 'COFFEE', 'SUGER')       |[]                                                                                                                                                                                                                                                                                                                                |\n",
            "|('BREAD', 'CORNFLAKES')            |[('MILK', 1.0), ('BISCUIT', 1.0)]                                                                                                                                                                                                                                                                                                 |\n",
            "|('BREAD', 'CORNFLAKES', 'MILK')    |[]                                                                                                                                                                                                                                                                                                                                |\n",
            "|('BREAD', 'JAM')                   |[('MAGGI', 1.0), ('MILK', 0.5), ('TEA', 0.5)]                                                                                                                                                                                                                                                                                     |\n",
            "|('BREAD', 'JAM', 'MAGGI')          |[]                                                                                                                                                                                                                                                                                                                                |\n",
            "|('BREAD', 'JAM', 'MILK')           |[]                                                                                                                                                                                                                                                                                                                                |\n",
            "|('BREAD', 'JAM', 'TEA')            |[]                                                                                                                                                                                                                                                                                                                                |\n",
            "|('BREAD', 'MAGGI')                 |[('JAM', 0.6666666666666666), ('MILK', 0.3333333333333333), ('TEA', 0.6666666666666666), ('BISCUIT', 0.3333333333333333)]                                                                                                                                                                                                         |\n",
            "|('BREAD', 'MAGGI', 'MILK')         |[]                                                                                                                                                                                                                                                                                                                                |\n",
            "|('BREAD', 'MAGGI', 'TEA')          |[]                                                                                                                                                                                                                                                                                                                                |\n",
            "|('BREAD', 'MILK')                  |[('BISCUIT', 0.5), ('CORNFLAKES', 0.25), ('JAM', 0.25), ('MAGGI', 0.25)]                                                                                                                                                                                                                                                          |\n",
            "|('BREAD', 'SUGER')                 |[('BISCUIT', 0.25), ('BOURNVITA', 0.25), ('COFFEE', 0.5)]                                                                                                                                                                                                                                                                         |\n",
            "|('BREAD', 'TEA')                   |[('BOURNVITA', 0.5), ('MAGGI', 0.5), ('BISCUIT', 0.25), ('JAM', 0.25)]                                                                                                                                                                                                                                                            |\n",
            "|('BREAD',)                         |[('MILK', 0.3076923076923077), ('BISCUIT', 0.3076923076923077), ('CORNFLAKES', 0.07692307692307693), ('TEA', 0.3076923076923077), ('BOURNVITA', 0.23076923076923078), ('JAM', 0.15384615384615385), ('MAGGI', 0.23076923076923078), ('COFFEE', 0.23076923076923078), ('COCK', 0.07692307692307693), ('SUGER', 0.3076923076923077)]|\n",
            "|('COCK', 'COFFEE')                 |[('BISCUIT', 0.6666666666666666), ('CORNFLAKES', 0.6666666666666666), ('BREAD', 0.3333333333333333)]                                                                                                                                                                                                                              |\n",
            "|('COCK', 'COFFEE', 'CORNFLAKES')   |[]                                                                                                                                                                                                                                                                                                                                |\n",
            "|('COCK', 'CORNFLAKES')             |[('COFFEE', 1.0), ('BISCUIT', 1.0)]                                                                                                                                                                                                                                                                                               |\n",
            "|('COCK',)                          |[('COFFEE', 1.0), ('BISCUIT', 0.6666666666666666), ('CORNFLAKES', 0.6666666666666666), ('BREAD', 0.3333333333333333)]                                                                                                                                                                                                             |\n",
            "|('COFFEE', 'CORNFLAKES')           |[('COCK', 0.5), ('BISCUIT', 0.5), ('SUGER', 0.25), ('TEA', 0.25), ('MILK', 0.25)]                                                                                                                                                                                                                                                 |\n",
            "|('COFFEE', 'CORNFLAKES', 'MILK')   |[]                                                                                                                                                                                                                                                                                                                                |\n",
            "+-----------------------------------+----------------------------------------------------------------------------------------------------------------------------------------------------------------------------------------------------------------------------------------------------------------------------------------------------------------------------------+\n",
            "only showing top 50 rows\n",
            "\n"
          ]
        }
      ],
      "source": [
        "def map_to_assoc_rules(rule):\n",
        "    \"\"\"\n",
        "    Maps each subpattern to its association rules.\n",
        "    Each association rule is a tuple containing:\n",
        "    - The product being predicted.\n",
        "    - The confidence level of the rule.\n",
        "    \"\"\"\n",
        "    subpattern, rules = rule  # Unpack the subpattern and its associated rules\n",
        "\n",
        "    # Find total_occurrences safely with a default value of 0\n",
        "    total_occurrences = next((count for product, count in rules if product is None), 0)\n",
        "\n",
        "    # If total_occurrences is 0, skip this subpattern\n",
        "    if total_occurrences == 0:\n",
        "        return (subpattern, [])\n",
        "\n",
        "    # Calculate confidence for each product\n",
        "    assoc_rules = [\n",
        "        (product, count / total_occurrences)\n",
        "        for product, count in rules\n",
        "        if product is not None\n",
        "    ]\n",
        "\n",
        "    return (subpattern, assoc_rules)\n",
        "\n",
        "# Apply the map_to_assoc_rules function to generate association rules\n",
        "assoc_rules = combined_rules.map(map_to_assoc_rules)\n",
        "\n",
        "# Output as dataframe\n",
        "assoc_rules.map(format_tuples).toDF(['patterns', 'association_rules']).sort(['patterns']).show(50, truncate=False)"
      ]
    },
    {
      "cell_type": "markdown",
      "metadata": {
        "id": "hA3vXekwqcPo"
      },
      "source": [
        "## 3. VAERS dataset (45 points)"
      ]
    },
    {
      "cell_type": "markdown",
      "metadata": {
        "id": "BPV5g2hwMa0U"
      },
      "source": [
        "Avec votre algorithme MBA prêt à être utilisé, il est maintenant temps de travailler sur l'ensemble de données réel.\n",
        "Pour cette partie du TP, nous l'appliquerons au domaine médical afin de mettre en avant l'apparition de symptômes cooccurents.\n",
        "\n",
        "Pour ce faire, téléchargez le dataset et lisez sa description (fichier ``note.txt``) pour comprendre la structure de l'ensemble de données.\n",
        "Il s'agit d'une aggrégation et normalisation des données issues du programme états-unien de surveillance [*Vaccine Adverse Event Reporting System*](https://vaers.hhs.gov/index.html).\n",
        "\n",
        "Avant d'appliquer l'algorithme développé sur l'ensemble de données VAERS, vous devez d'abord filtrer les transactions pour qu'elles soient au même format défini par votre algorithme (une transaction par ligne).\n",
        "Pour manipuler les données, nous pouvons utiliser le bloc de données de Spark et le module SQL présenté dans la section 1.\n",
        "\n",
        "La cellule de code suivante utilise le module Spark SQL pour lire les observations de ``OBSERVATIONS_extract.csv`` et les informations détaillées de ``DATA.csv`` et ``SYMPTOMS.csv`` pour construire une dataframe qui contient un liste de tous les symptômes jamais observés pour chaque patient."
      ]
    },
    {
      "cell_type": "markdown",
      "metadata": {
        "id": "3eaInywAwqp5"
      },
      "source": [
        "### Chargement des données"
      ]
    },
    {
      "cell_type": "code",
      "execution_count": 12,
      "metadata": {
        "id": "dcoaqEwByVIM",
        "colab": {
          "base_uri": "https://localhost:8080/"
        },
        "outputId": "f7544b53-d1ad-4479-ff51-6b4a1360e925"
      },
      "outputs": [
        {
          "output_type": "stream",
          "name": "stdout",
          "text": [
            "SYMPTOMS.csv\n",
            "+----------+--------------------+\n",
            "|SYMPTOM_ID|        SYMPTOM_NAME|\n",
            "+----------+--------------------+\n",
            "|         0|Cardiac vein diss...|\n",
            "|         1|Vaccination site ...|\n",
            "|         2|Blood bicarbonate...|\n",
            "|         3|  Judgement impaired|\n",
            "|         4|Sinus node dysfun...|\n",
            "+----------+--------------------+\n",
            "only showing top 5 rows\n",
            "\n"
          ]
        }
      ],
      "source": [
        "df_symptoms = spark.read.csv(ROOT + 'SYMPTOMS.csv', header=True, sep=',', inferSchema=True)\n",
        "print('SYMPTOMS.csv')\n",
        "df_symptoms.show(5)"
      ]
    },
    {
      "cell_type": "code",
      "execution_count": 13,
      "metadata": {
        "id": "DH1zH_0UyWgv",
        "colab": {
          "base_uri": "https://localhost:8080/"
        },
        "outputId": "a8aa3163-78a4-444d-8a08-903afae490cf"
      },
      "outputs": [
        {
          "output_type": "stream",
          "name": "stdout",
          "text": [
            "OBSERVATIONS.csv\n",
            "+--------------+--------+----------+\n",
            "|OBSERVATION_ID|VAERS_ID|SYMPTOM_ID|\n",
            "+--------------+--------+----------+\n",
            "|             0|   25002|      9465|\n",
            "|             0|   25002|      2581|\n",
            "|             1|   25010|     14978|\n",
            "|             2|   25011|      2581|\n",
            "|             2|   25011|      6620|\n",
            "+--------------+--------+----------+\n",
            "only showing top 5 rows\n",
            "\n"
          ]
        }
      ],
      "source": [
        "df_observations = spark.read.csv(ROOT + 'OBSERVATIONS_extract.csv', header=True, sep=',', inferSchema=True)\n",
        "print('OBSERVATIONS.csv')\n",
        "df_observations.show(5)"
      ]
    },
    {
      "cell_type": "code",
      "execution_count": 14,
      "metadata": {
        "id": "bR4veBLryXuM",
        "colab": {
          "base_uri": "https://localhost:8080/"
        },
        "outputId": "4ac5e30c-7a86-40fb-9c7f-5a4f64bd84d5"
      },
      "outputs": [
        {
          "output_type": "stream",
          "name": "stdout",
          "text": [
            "DATA.csv\n",
            "+--------+-----+-------+---+\n",
            "|VAERS_ID|STATE|AGE_YRS|SEX|\n",
            "+--------+-----+-------+---+\n",
            "|   25002|   FR|   82.0|  M|\n",
            "|   25010|   FR|    1.7|  M|\n",
            "|   25011|   FR|    5.0|  F|\n",
            "|   25064|   FR|   NULL|  F|\n",
            "|   25055|   FR|   54.0|  F|\n",
            "+--------+-----+-------+---+\n",
            "only showing top 5 rows\n",
            "\n"
          ]
        }
      ],
      "source": [
        "df_data = spark.read.csv(ROOT + 'DATA.csv', header=True, sep=',', inferSchema=True)\n",
        "print('DATA.csv')\n",
        "df_data.show(5)"
      ]
    },
    {
      "cell_type": "code",
      "execution_count": 15,
      "metadata": {
        "id": "f9cxx8h8EWMm",
        "colab": {
          "base_uri": "https://localhost:8080/"
        },
        "outputId": "824ca878-ff93-4391-9fcb-2f4816b91032"
      },
      "outputs": [
        {
          "output_type": "stream",
          "name": "stdout",
          "text": [
            "VAX.csv\n",
            "+--------+--------+------------------+--------------------+\n",
            "|VAERS_ID|VAX_TYPE|          VAX_MANU|            VAX_NAME|\n",
            "+--------+--------+------------------+--------------------+\n",
            "|   25002|     PPV|  MERCK & CO. INC.|  PNEUMO (PNEUMOVAX)|\n",
            "|   25010|     MMR|  MERCK & CO. INC.|MEASLES + MUMPS +...|\n",
            "|   25011|     HEP|SMITHKLINE BEECHAM|   HEP B (ENGERIX-B)|\n",
            "|   25055|     HEP|SMITHKLINE BEECHAM|   HEP B (ENGERIX-B)|\n",
            "|   25056|     HEP|SMITHKLINE BEECHAM|   HEP B (ENGERIX-B)|\n",
            "+--------+--------+------------------+--------------------+\n",
            "only showing top 5 rows\n",
            "\n"
          ]
        }
      ],
      "source": [
        "df_vax = spark.read.csv(ROOT + 'VAX.csv', header=True, sep=',', inferSchema=True)\n",
        "print('VAX.csv')\n",
        "df_vax.show(5)"
      ]
    },
    {
      "cell_type": "markdown",
      "metadata": {
        "id": "4SKrggVywy-P"
      },
      "source": [
        "### Requête avec SQL"
      ]
    },
    {
      "cell_type": "code",
      "execution_count": 16,
      "metadata": {
        "id": "r0j8lixgGl4m"
      },
      "outputs": [],
      "source": [
        "df_observations.createOrReplaceTempView(\"OBSERVATIONS\") # creates table 'observations'\n",
        "df_symptoms.createOrReplaceTempView(\"SYMPTOMS\") # creates table 'symptoms'\n",
        "df_data.createOrReplaceTempView(\"DATA\") # creates table 'data'\n",
        "df_vax.createOrReplaceTempView(\"VAX\") # creates table 'vax'"
      ]
    },
    {
      "cell_type": "code",
      "execution_count": 17,
      "metadata": {
        "id": "mVss9sotT8X9",
        "colab": {
          "base_uri": "https://localhost:8080/"
        },
        "outputId": "2ad1103a-20e2-4bf0-8101-85a2ee0d35bd"
      },
      "outputs": [
        {
          "output_type": "stream",
          "name": "stdout",
          "text": [
            "+--------+------------------------------------------------------------------------------+\n",
            "|VAERS_ID|SYMPTOMS                                                                      |\n",
            "+--------+------------------------------------------------------------------------------+\n",
            "|25002   |[Convulsion, Chills]                                                          |\n",
            "|25010   |[Bronchitis]                                                                  |\n",
            "|25011   |[Vomiting, Pyrexia, Convulsion]                                               |\n",
            "|25055   |[Neoplasm malignant, Nausea, Hepatocellular damage, Hepatic function abnormal]|\n",
            "|25056   |[Malaise, Hepatic cirrhosis]                                                  |\n",
            "+--------+------------------------------------------------------------------------------+\n",
            "only showing top 5 rows\n",
            "\n"
          ]
        }
      ],
      "source": [
        "\"\"\"\n",
        "List of symptoms ever contracted by each user\n",
        "\"\"\"\n",
        "spark.sql(\"\"\"\n",
        "  SELECT\n",
        "    data.VAERS_ID,\n",
        "    COLLECT_LIST(symp.SYMPTOM_NAME) AS SYMPTOMS\n",
        "  FROM DATA\n",
        "  INNER JOIN OBSERVATIONS observ ON observ.VAERS_ID = data.VAERS_ID\n",
        "  INNER JOIN SYMPTOMS symp ON observ.SYMPTOM_ID = symp.SYMPTOM_ID\n",
        "  GROUP BY data.VAERS_ID ORDER BY data.VAERS_ID\n",
        "\"\"\").show(5, truncate=False)"
      ]
    },
    {
      "cell_type": "markdown",
      "metadata": {
        "id": "dxNCqA-Uw52I"
      },
      "source": [
        "### Requête avec opérations ensemblistes sur le dataFrame"
      ]
    },
    {
      "cell_type": "code",
      "execution_count": 18,
      "metadata": {
        "id": "6oB1eTkeMa0W",
        "colab": {
          "base_uri": "https://localhost:8080/"
        },
        "outputId": "8cae7a77-ab45-476c-e180-fc1c00e98a83"
      },
      "outputs": [
        {
          "output_type": "stream",
          "name": "stdout",
          "text": [
            "+--------+------------------------------------------------------------------------------+\n",
            "|VAERS_ID|SYMPTOMS                                                                      |\n",
            "+--------+------------------------------------------------------------------------------+\n",
            "|25002   |[Convulsion, Chills]                                                          |\n",
            "|25010   |[Bronchitis]                                                                  |\n",
            "|25011   |[Vomiting, Pyrexia, Convulsion]                                               |\n",
            "|25055   |[Neoplasm malignant, Nausea, Hepatocellular damage, Hepatic function abnormal]|\n",
            "|25056   |[Malaise, Hepatic cirrhosis]                                                  |\n",
            "+--------+------------------------------------------------------------------------------+\n",
            "only showing top 5 rows\n",
            "\n"
          ]
        }
      ],
      "source": [
        "\"\"\"\n",
        "List of symptoms ever contracted by each user\n",
        "\"\"\"\n",
        "df_data.join(df_observations, df_observations.VAERS_ID == df_data.VAERS_ID, 'inner')\\\n",
        " .join(df_symptoms, df_symptoms.SYMPTOM_ID == df_observations.SYMPTOM_ID, 'inner')\\\n",
        " .groupBy(df_data.VAERS_ID).agg(f.collect_list(df_symptoms.SYMPTOM_NAME).alias('SYMPTOMS'))\\\n",
        " .orderBy(df_data.VAERS_ID).show(5, truncate=False)"
      ]
    },
    {
      "cell_type": "markdown",
      "metadata": {
        "id": "JEqVeqhkMa0a"
      },
      "source": [
        "### 3.1 Perspectives médicales (20 points)\n",
        "\n",
        "Maintenant, vous êtes le *data scientist*. En utilisant le module Spark SQL, performant avec SQL ou dataframe, répondez aux questions suivantes:\n",
        "\n",
        "1. Quel est l'âge moyen des patients par états (américains et autres) ? A trier par ordre décroissant - 4 pts\n",
        "2. Quels sont les 3 symptômes les plus observés pour chaque entreprise de vaccins ? - 8 pts\n",
        "3. Quelle est le nombre moyen de symptômes pour les 20 vaccins les plus utilisés ? - 8 pts\n",
        "    - utilisez un barplot pour visualiser vos résultats, ordonné selon la popularité des vaccins de cet ensemble de données\n",
        "**Les sorties des questions 2 et 3 doivent contenir le NOM des symptômes, pas leur ID.**\n",
        "\n",
        "Aucun pré-traitement des données n'est ici attendu."
      ]
    },
    {
      "cell_type": "code",
      "execution_count": 19,
      "metadata": {
        "id": "mduVYG70d__G",
        "colab": {
          "base_uri": "https://localhost:8080/"
        },
        "outputId": "7b3b6ff6-75b2-44ab-bef6-b340c328ffe8"
      },
      "outputs": [
        {
          "output_type": "stream",
          "name": "stdout",
          "text": [
            "+-----+------------------+-------------+\n",
            "|STATE|MEAN_AGE          |PATIENT_COUNT|\n",
            "+-----+------------------+-------------+\n",
            "|XV   |53.0              |2            |\n",
            "|XB   |49.5              |12           |\n",
            "|AS   |48.9683           |100          |\n",
            "|FL   |48.70062404526923 |75283        |\n",
            "|MN   |44.854145968322506|33336        |\n",
            "|KY   |44.740111775528945|21740        |\n",
            "|MI   |44.572689699918925|61650        |\n",
            "|AZ   |44.181660384411686|32101        |\n",
            "|PR   |43.76019668597601 |7423         |\n",
            "|CT   |43.63826995692177 |18803        |\n",
            "|NV   |43.56006325528701 |10592        |\n",
            "|DE   |43.51405103331928 |4742         |\n",
            "|IN   |43.263884985299256|40134        |\n",
            "|MT   |43.0678064324885  |6747         |\n",
            "|FM   |43.02538461538462 |65           |\n",
            "|VT   |42.83776263736264 |4550         |\n",
            "|CO   |42.57963074436367 |35883        |\n",
            "|TN   |42.429461943319815|24700        |\n",
            "|SC   |42.245218176686436|17715        |\n",
            "|NY   |41.99645738324132 |79159        |\n",
            "+-----+------------------+-------------+\n",
            "only showing top 20 rows\n",
            "\n"
          ]
        }
      ],
      "source": [
        "# Calculate the mean age of patients by state, sorted by mean age in descending order\n",
        "mean_age_by_state = spark.sql(\"\"\"\n",
        "    SELECT\n",
        "      UPPER(data.STATE) AS STATE,\n",
        "      AVG(data.AGE_YRS) AS MEAN_AGE,\n",
        "      COUNT(data.VAERS_ID) AS PATIENT_COUNT\n",
        "  FROM DATA\n",
        "  WHERE data.AGE_YRS IS NOT NULL AND data.STATE IS NOT NULL\n",
        "  GROUP BY UPPER(data.STATE)\n",
        "  ORDER BY MEAN_AGE DESC\n",
        "\"\"\")\n",
        "\n",
        "# Display results\n",
        "mean_age_by_state.show(truncate=False)"
      ]
    },
    {
      "cell_type": "code",
      "execution_count": 20,
      "metadata": {
        "id": "U4oaFriU93Qk",
        "colab": {
          "base_uri": "https://localhost:8080/"
        },
        "outputId": "cd80e922-ae43-451c-c12f-4e412353a136"
      },
      "outputs": [
        {
          "output_type": "stream",
          "name": "stdout",
          "text": [
            "+---------------------------------+------------------------------------------------------------+\n",
            "|company                          |top3_symptoms                                               |\n",
            "+---------------------------------+------------------------------------------------------------+\n",
            "|AVENTIS PASTEUR                  |[Asthenia, Pain, Pyrexia]                                   |\n",
            "|BERNA BIOTECH, LTD               |[Alcohol use, Autopsy, Death]                               |\n",
            "|BERNA BIOTECH, LTD.              |[Pyrexia, Diarrhoea, Headache]                              |\n",
            "|BSI                              |[Grand mal convulsion, Nausea, Enzyme abnormality]          |\n",
            "|CONNAUGHT LABORATORIES           |[Pyrexia, Convulsion, Infection]                            |\n",
            "|CONNAUGHT LTD.                   |[Pyrexia, Convulsion, Pallor]                               |\n",
            "|CSL LIMITED                      |[Pyrexia, Vomiting, Headache]                               |\n",
            "|EMERGENT BIOSOLUTIONS            |[Injection site pain, Pyrexia, Injection site erythema]     |\n",
            "|EVANS VACCINES                   |[Malaise, Pruritus, Medication error]                       |\n",
            "|GLAXOSMITHKLINE BIOLOGICALS      |[Pyrexia, Vomiting, Pallor]                                 |\n",
            "|INTERCELL AG                     |[Syncope, Headache, Paraesthesia]                           |\n",
            "|LEDERLE LABORATORIES             |[Pyrexia, Infection, Angioneurotic oedema]                  |\n",
            "|MASS. PUB HLTH BIOL LAB          |[Pyrexia, Apathy, Pruritus]                                 |\n",
            "|MEDEVA PHARMA, LTD.              |[Pyrexia, Pain, Paraesthesia]                               |\n",
            "|MEDIMMUNE VACCINES, INC.         |[Pyrexia, Cough, Headache]                                  |\n",
            "|MERCK & CO. INC.                 |[Pyrexia, Headache, Dizziness]                              |\n",
            "|MICHIGAN DEPT PUB HLTH           |[Oedema, Myasthenic syndrome, Vasodilatation]               |\n",
            "|NOVARTIS VACCINES AND DIAGNOSTICS|[Pyrexia, Vomiting, Headache]                               |\n",
            "|ORGANON-TEKNIKA                  |[Skin ulcer, Injection site swelling, Anaphylactic reaction]|\n",
            "|PARKE-DAVIS                      |[Personality disorder, Insomnia, Anorexia]                  |\n",
            "+---------------------------------+------------------------------------------------------------+\n",
            "only showing top 20 rows\n",
            "\n"
          ]
        }
      ],
      "source": [
        "# Load additional data if needed\n",
        "df_observations = spark.read.option(\"header\", True).csv(\"data/OBSERVATIONS_extract.csv\")\n",
        "df_symptoms = spark.read.option(\"header\", True).csv(\"data/SYMPTOMS.csv\")\n",
        "df_vac = spark.read.option(\"header\", True).csv(\"data/VAX.csv\")\n",
        "\n",
        "# Register views\n",
        "df_observations.createOrReplaceTempView(\"OBS\")\n",
        "df_symptoms.createOrReplaceTempView(\"SYMPTOMS\")\n",
        "df_vac.createOrReplaceTempView(\"VAX\")\n",
        "\n",
        "# SQL query to get top 3 symptoms per company\n",
        "query_top_symptoms = \"\"\"\n",
        "WITH top_3 AS (\n",
        "    SELECT\n",
        "        vac.VAX_MANU AS company,\n",
        "        sym.SYMPTOM_NAME AS symptom,\n",
        "        ROW_NUMBER() OVER (PARTITION BY vac.VAX_MANU ORDER BY COUNT(*) DESC) AS position\n",
        "    FROM VAX vac\n",
        "    JOIN OBS obs ON obs.VAERS_ID = vac.VAERS_ID\n",
        "    JOIN SYMPTOMS sym ON obs.SYMPTOM_ID = sym.SYMPTOM_ID\n",
        "    GROUP BY vac.VAX_MANU, sym.SYMPTOM_NAME\n",
        ")\n",
        "SELECT\n",
        "    company,\n",
        "    COLLECT_LIST(symptom) AS top3_symptoms\n",
        "FROM top_3\n",
        "WHERE position <= 3\n",
        "GROUP BY company\n",
        "ORDER BY company\n",
        "\"\"\"\n",
        "\n",
        "# Execute and show results\n",
        "Top3 = spark.sql(query_top_symptoms)\n",
        "Top3.show(truncate=False)\n"
      ]
    },
    {
      "cell_type": "code",
      "source": [
        "import matplotlib.pyplot as plt\n",
        "import pandas as pd\n",
        "\n",
        "query_avg_symptoms = \"\"\"\n",
        "WITH joined_data AS (\n",
        "    SELECT\n",
        "        vac.VAX_NAME,\n",
        "        vac.VAERS_ID,\n",
        "        obs.SYMPTOM_ID\n",
        "    FROM VAX vac\n",
        "    JOIN OBSERVATIONS obs ON vac.VAERS_ID = obs.VAERS_ID\n",
        "),\n",
        "symptom_counts AS (\n",
        "    SELECT\n",
        "        VAX_NAME,\n",
        "        VAERS_ID,\n",
        "        COUNT(DISTINCT SYMPTOM_ID) AS symptom_count\n",
        "    FROM joined_data\n",
        "    GROUP BY VAX_NAME, VAERS_ID\n",
        "),\n",
        "vaccine_stats AS (\n",
        "    SELECT\n",
        "        VAX_NAME,\n",
        "        AVG(symptom_count) AS avg_symptoms,\n",
        "        COUNT(DISTINCT VAERS_ID) AS injection_count\n",
        "    FROM symptom_counts\n",
        "    GROUP BY VAX_NAME\n",
        "),\n",
        "top_20_vaccines AS (\n",
        "    SELECT VAX_NAME\n",
        "    FROM vaccine_stats\n",
        "    ORDER BY injection_count DESC\n",
        "    LIMIT 20\n",
        ")\n",
        "SELECT\n",
        "    vs.VAX_NAME,\n",
        "    vs.avg_symptoms,\n",
        "    vs.injection_count\n",
        "FROM vaccine_stats vs\n",
        "JOIN top_20_vaccines top ON vs.VAX_NAME = top.VAX_NAME\n",
        "ORDER BY vs.injection_count DESC\n",
        "\"\"\"\n",
        "\n",
        "avg_symptoms_df = spark.sql(query_avg_symptoms)\n",
        "avg_symptoms_df.show(truncate=False)\n",
        "avg_symptoms_pd = avg_symptoms_df.toPandas()\n",
        "\n",
        "plt.figure(figsize=(12, 6))\n",
        "plt.bar(\n",
        "    avg_symptoms_pd['VAX_NAME'],\n",
        "    avg_symptoms_pd['avg_symptoms'],\n",
        "    color='skyblue'\n",
        ")\n",
        "plt.xlabel('Vaccine Name', fontsize=12)\n",
        "plt.ylabel('Average Number of Symptoms', fontsize=12)\n",
        "plt.title('Average Number of Symptoms for Top 20 Injected Vaccines', fontsize=14)\n",
        "plt.xticks(rotation=45, ha='right', fontsize=10)\n",
        "plt.tight_layout()\n",
        "plt.show()\n"
      ],
      "metadata": {
        "id": "WqM7xoSPo7LS",
        "colab": {
          "base_uri": "https://localhost:8080/",
          "height": 1000
        },
        "outputId": "1b838804-ac83-4b34-a56a-8eb44bcba6dc"
      },
      "execution_count": 21,
      "outputs": [
        {
          "output_type": "stream",
          "name": "stdout",
          "text": [
            "+-----------------------------------------+-----------------+---------------+\n",
            "|VAX_NAME                                 |avg_symptoms     |injection_count|\n",
            "+-----------------------------------------+-----------------+---------------+\n",
            "|HPV (GARDASIL)                           |7.686320463796719|8107           |\n",
            "|PNEUMO (PREVNAR13)                       |6.116218181818182|6875           |\n",
            "|HEP B (ENGERIX-B)                        |6.702782131661442|5104           |\n",
            "|ROTAVIRUS (ROTARIX)                      |5.896948878561325|4949           |\n",
            "|PNEUMO (PREVNAR)                         |6.094689699296225|4689           |\n",
            "|INFLUENZA (SEASONAL) (NO BRAND NAME)     |6.036217303822937|4473           |\n",
            "|MEASLES + MUMPS + RUBELLA (MMR II)       |5.553933113518606|4246           |\n",
            "|PNEUMO (PNEUMOVAX)                       |5.655924170616114|4220           |\n",
            "|HPV (CERVARIX)                           |6.611233211233211|4095           |\n",
            "|HIB (ACTHIB)                             |5.733887138355772|3491           |\n",
            "|DTAP (INFANRIX)                          |5.355777979981801|3297           |\n",
            "|POLIO VIRUS, INACT. (NO BRAND NAME)      |5.650299024236701|3177           |\n",
            "|DTAP+IPV+HEPB+HIB (INFANRIX HEXA)        |7.03783958602846 |3092           |\n",
            "|ROTAVIRUS (ROTATEQ)                      |5.785207321628689|2677           |\n",
            "|HEP B (NO BRAND NAME)                    |6.154101077050538|2414           |\n",
            "|DTP (NO BRAND NAME)                      |5.149868536371604|2282           |\n",
            "|MENINGOCOCCAL B (BEXSERO)                |4.572569906790945|2253           |\n",
            "|HEP A + HEP B (TWINRIX)                  |6.444282945736434|2064           |\n",
            "|MEASLES + MUMPS + RUBELLA (NO BRAND NAME)|5.407901761879338|1873           |\n",
            "|HEP A (HAVRIX)                           |6.016449234259785|1763           |\n",
            "+-----------------------------------------+-----------------+---------------+\n",
            "\n"
          ]
        },
        {
          "output_type": "display_data",
          "data": {
            "text/plain": [
              "<Figure size 1200x600 with 1 Axes>"
            ],
            "image/png": "[encoded data removed]"
          },
          "metadata": {}
        }
      ]
    },
    {
      "cell_type": "markdown",
      "metadata": {
        "id": "PEWqTH1QMa0a"
      },
      "source": [
        "### 3.2 MBA pour les observations de 2024 (20 points)\n",
        "\n",
        "En utilisant les lignes de ``OBSERVATIONS_extract.csv``, créez un bloc de données où chaque ligne contient la liste des symptomes observés pour chaque patient, de manière similaire au GroceryDataset. Ensuite, exécutez l'algorithme MBA pour cet ensemble de transactions.\n",
        "Le format devra permettre d'appeler l'ensemble des méthodes précédemment implémentées.\n",
        "\n",
        "- Vous devez signaler le temps passé pour effectuer cette tâche.\n",
        "- La sortie doit contenir le nom des symptômes.\n",
        "- **Important** : la première colonne (patterns) doit être classée par ordre alphabétique."
      ]
    },
    {
      "cell_type": "code",
      "source": [
        "%%time\n",
        "from pyspark.sql.functions import collect_set, sort_array, concat_ws\n",
        "\n",
        "# 1. Perform the join between OBSERVATIONS and SYMPTOMS\n",
        "transactions = spark.sql(\"\"\"\n",
        "    SELECT\n",
        "        obs.VAERS_ID,\n",
        "        sym.SYMPTOM_NAME\n",
        "    FROM OBSERVATIONS obs\n",
        "    JOIN SYMPTOMS sym ON obs.SYMPTOM_ID = sym.SYMPTOM_ID\n",
        "\"\"\")\n",
        "\n",
        "# 2. Group by VAERS_ID and collect symptoms as a sorted array\n",
        "final_df = (\n",
        "    transactions\n",
        "    .groupBy(\"VAERS_ID\")\n",
        "    .agg(\n",
        "        sort_array(collect_set(\"SYMPTOM_NAME\")).alias(\"symptoms\")\n",
        "    )\n",
        "    .orderBy(\"VAERS_ID\")  # Ensures consistent output\n",
        ")\n",
        "\n",
        "# 3. Optional: If you want to keep a string version (like `transaction`)\n",
        "final_df_str = final_df.withColumn(\"transaction\", concat_ws(\",\", \"symptoms\"))\n",
        "\n",
        "# 4. Show result\n",
        "final_df_str.show(20, truncate=False)\n"
      ],
      "metadata": {
        "id": "1XPYvRKdrRYp",
        "colab": {
          "base_uri": "https://localhost:8080/"
        },
        "outputId": "5421973c-335f-426a-ede0-ecfb9d05ca88"
      },
      "execution_count": 22,
      "outputs": [
        {
          "output_type": "stream",
          "name": "stdout",
          "text": [
            "+--------+------------------------------------------------------------------------------------------------------------------------------------+-------------------------------------------------------------------------------------------------------------------------+\n",
            "|VAERS_ID|symptoms                                                                                                                            |transaction                                                                                                              |\n",
            "+--------+------------------------------------------------------------------------------------------------------------------------------------+-------------------------------------------------------------------------------------------------------------------------+\n",
            "|25002   |[Chills, Convulsion]                                                                                                                |Chills,Convulsion                                                                                                        |\n",
            "|25010   |[Bronchitis]                                                                                                                        |Bronchitis                                                                                                               |\n",
            "|25011   |[Convulsion, Pyrexia, Vomiting]                                                                                                     |Convulsion,Pyrexia,Vomiting                                                                                              |\n",
            "|25055   |[Hepatic function abnormal, Hepatocellular damage, Nausea, Neoplasm malignant]                                                      |Hepatic function abnormal,Hepatocellular damage,Nausea,Neoplasm malignant                                                |\n",
            "|25056   |[Hepatic cirrhosis, Malaise]                                                                                                        |Hepatic cirrhosis,Malaise                                                                                                |\n",
            "|25057   |[Anaphylactoid reaction]                                                                                                            |Anaphylactoid reaction                                                                                                   |\n",
            "|25058   |[Convulsion, Electroencephalogram abnormal, Headache]                                                                               |Convulsion,Electroencephalogram abnormal,Headache                                                                        |\n",
            "|25060   |[Angina pectoris, Angioneurotic oedema, Urticaria]                                                                                  |Angina pectoris,Angioneurotic oedema,Urticaria                                                                           |\n",
            "|25061   |[Anaphylactoid reaction, Dyspnoea, Rash]                                                                                            |Anaphylactoid reaction,Dyspnoea,Rash                                                                                     |\n",
            "|25064   |[Congenital anomaly]                                                                                                                |Congenital anomaly                                                                                                       |\n",
            "|25066   |[Apnoea, Bradycardia, Pyrexia, Tachycardia, Vomiting, Weight decreased]                                                             |Apnoea,Bradycardia,Pyrexia,Tachycardia,Vomiting,Weight decreased                                                         |\n",
            "|25486   |[Asthenia, Facial palsy, Pyrexia]                                                                                                   |Asthenia,Facial palsy,Pyrexia                                                                                            |\n",
            "|25519   |[Diabetes mellitus]                                                                                                                 |Diabetes mellitus                                                                                                        |\n",
            "|25520   |[Sepsis]                                                                                                                            |Sepsis                                                                                                                   |\n",
            "|25528   |[Anaphylactoid reaction, Asthma, Dyspnoea, Pruritus, Rash]                                                                          |Anaphylactoid reaction,Asthma,Dyspnoea,Pruritus,Rash                                                                     |\n",
            "|25540   |[Asthma, Chest pain, Conjunctivitis, Dyspnoea, Hyperventilation, Laryngospasm, Nausea, Paraesthesia, Rash maculo-papular, Urticaria]|Asthma,Chest pain,Conjunctivitis,Dyspnoea,Hyperventilation,Laryngospasm,Nausea,Paraesthesia,Rash maculo-papular,Urticaria|\n",
            "|25541   |[Abortion, Vaginal haemorrhage]                                                                                                     |Abortion,Vaginal haemorrhage                                                                                             |\n",
            "|25555   |[Convulsion, Pyrexia]                                                                                                               |Convulsion,Pyrexia                                                                                                       |\n",
            "|25567   |[Laboratory test abnormal, Myasthenic syndrome, Paraesthesia]                                                                       |Laboratory test abnormal,Myasthenic syndrome,Paraesthesia                                                                |\n",
            "|25608   |[Abdominal distension, Abdominal pain, Anorexia, Cholecystitis, Pallor]                                                             |Abdominal distension,Abdominal pain,Anorexia,Cholecystitis,Pallor                                                        |\n",
            "+--------+------------------------------------------------------------------------------------------------------------------------------------+-------------------------------------------------------------------------------------------------------------------------+\n",
            "only showing top 20 rows\n",
            "\n",
            "CPU times: user 20.5 ms, sys: 2.25 ms, total: 22.8 ms\n",
            "Wall time: 3.69 s\n"
          ]
        }
      ]
    },
    {
      "cell_type": "markdown",
      "metadata": {
        "id": "wJD-Ra-qp5QZ"
      },
      "source": [
        "Attention, l'exécution de cellule-ci devrait prendre plusieurs dizaines de minutes, dépendamment de votre implémentation."
      ]
    },
    {
      "cell_type": "code",
      "source": [
        "\n",
        "%%time\n",
        "\n",
        "from pyspark.sql import functions as F\n",
        "\n",
        "# 1. Convertir la colonne 'symptoms' en RDD de listes\n",
        "transactions_rdd = final_df.rdd.map(lambda row: row.symptoms)\n",
        "\n",
        "# 2. Appliquer le pipeline MBA étape par étape\n",
        "patterns_rdd = transactions_rdd.flatMap(map_to_patterns)\n",
        "combined_patterns_rdd = patterns_rdd.reduceByKey(lambda a, b: a + b)\n",
        "subpatterns_rdd = combined_patterns_rdd.flatMap(map_to_subpatterns)\n",
        "combined_rules = subpatterns_rdd.groupByKey().mapValues(list)\n",
        "\n",
        "# 3. Calculer la confiance de chaque règle\n",
        "assoc_rules = combined_rules.map(map_to_assoc_rules)\n",
        "\n",
        "# 4. Filtrer les règles avec confiance\n",
        "all_rules = assoc_rules.map(\n",
        "    lambda row: (row[0], [(item, round(conf, 3)) for item, conf in row[1]])\n",
        ")\n",
        "\n",
        "# 5. Conversion en DataFrame trié\n",
        "rules_df = all_rules.map(lambda row: (sorted(row[0]), row[1])) \\\n",
        "    .toDF(['patterns', 'association_rules']) \\\n",
        "    .withColumn(\"pattern_str\", F.array_join(\"patterns\", \",\")) \\\n",
        "    .orderBy(\"pattern_str\")\n",
        "\n",
        "# 6. Affichage des 50 premières règles\n",
        "rules_df.select(\"patterns\", \"association_rules\").show(50, truncate=False)"
      ],
      "metadata": {
        "id": "k9PK0MsbtWYW",
        "colab": {
          "base_uri": "https://localhost:8080/"
        },
        "outputId": "f77db7b7-a67e-4d11-f32c-9cb9dd2dd29a"
      },
      "execution_count": 23,
      "outputs": [
        {
          "output_type": "stream",
          "name": "stdout",
          "text": [
            "+---------------------------------------------------------------------------------------------------------+----------------------------------------------------------------------------------------------------------------------------------------------------------------------------------------------------------------------------------------------------------------------------------------------------------------------------------------------------------------------------------------------------------------------------------------------------------------------------------------------------------------------------------------------------------------------------------------------------------------------------------------------------------------------------------------------------------------------------------------------------------------------------------------------------------------------------------------------------------------------------------------------------------------------------------------------------------------------------------------------------------------------------------------------------------------------------------------------------------------------------------------------------------------------------------------------------------------------------------------------------------------------------------------------------------------------------------------------------------------------------------------------------------------------------------------------------------------------------------------------------------------------------------------------------------------------------------------------------------------------------------------------------------+\n",
            "|patterns                                                                                                 |association_rules                                                                                                                                                                                                                                                                                                                                                                                                                                                                                                                                                                                                                                                                                                                                                                                                                                                                                                                                                                                                                                                                                                                                                                                                                                                                                                                                                                                                                                                                                                                                                                                                                                         |\n",
            "+---------------------------------------------------------------------------------------------------------+----------------------------------------------------------------------------------------------------------------------------------------------------------------------------------------------------------------------------------------------------------------------------------------------------------------------------------------------------------------------------------------------------------------------------------------------------------------------------------------------------------------------------------------------------------------------------------------------------------------------------------------------------------------------------------------------------------------------------------------------------------------------------------------------------------------------------------------------------------------------------------------------------------------------------------------------------------------------------------------------------------------------------------------------------------------------------------------------------------------------------------------------------------------------------------------------------------------------------------------------------------------------------------------------------------------------------------------------------------------------------------------------------------------------------------------------------------------------------------------------------------------------------------------------------------------------------------------------------------------------------------------------------------+\n",
            "|[]                                                                                                       |[]                                                                                                                                                                                                                                                                                                                                                                                                                                                                                                                                                                                                                                                                                                                                                                                                                                                                                                                                                                                                                                                                                                                                                                                                                                                                                                                                                                                                                                                                                                                                                                                                                                                        |\n",
            "|[11-beta-hydroxylase deficiency]                                                                         |[{Swelling, 1.0}, {Insomnia, 1.0}, {Chills, 1.0}, {Pain in extremity, 1.0}, {Myalgia, 1.0}, {Headache, 1.0}, {Laboratory test abnormal, 1.0}]                                                                                                                                                                                                                                                                                                                                                                                                                                                                                                                                                                                                                                                                                                                                                                                                                                                                                                                                                                                                                                                                                                                                                                                                                                                                                                                                                                                                                                                                                                             |\n",
            "|[11-beta-hydroxylase deficiency, Chills]                                                                 |[{Laboratory test abnormal, 1.0}, {Pain in extremity, 1.0}, {Myalgia, 1.0}, {Headache, 1.0}, {Insomnia, 1.0}, {Swelling, 1.0}]                                                                                                                                                                                                                                                                                                                                                                                                                                                                                                                                                                                                                                                                                                                                                                                                                                                                                                                                                                                                                                                                                                                                                                                                                                                                                                                                                                                                                                                                                                                            |\n",
            "|[11-beta-hydroxylase deficiency, Chills, Headache]                                                       |[]                                                                                                                                                                                                                                                                                                                                                                                                                                                                                                                                                                                                                                                                                                                                                                                                                                                                                                                                                                                                                                                                                                                                                                                                                                                                                                                                                                                                                                                                                                                                                                                                                                                        |\n",
            "|[11-beta-hydroxylase deficiency, Chills, Insomnia]                                                       |[]                                                                                                                                                                                                                                                                                                                                                                                                                                                                                                                                                                                                                                                                                                                                                                                                                                                                                                                                                                                                                                                                                                                                                                                                                                                                                                                                                                                                                                                                                                                                                                                                                                                        |\n",
            "|[11-beta-hydroxylase deficiency, Chills, Laboratory test abnormal]                                       |[]                                                                                                                                                                                                                                                                                                                                                                                                                                                                                                                                                                                                                                                                                                                                                                                                                                                                                                                                                                                                                                                                                                                                                                                                                                                                                                                                                                                                                                                                                                                                                                                                                                                        |\n",
            "|[11-beta-hydroxylase deficiency, Chills, Myalgia]                                                        |[]                                                                                                                                                                                                                                                                                                                                                                                                                                                                                                                                                                                                                                                                                                                                                                                                                                                                                                                                                                                                                                                                                                                                                                                                                                                                                                                                                                                                                                                                                                                                                                                                                                                        |\n",
            "|[11-beta-hydroxylase deficiency, Chills, Pain in extremity]                                              |[]                                                                                                                                                                                                                                                                                                                                                                                                                                                                                                                                                                                                                                                                                                                                                                                                                                                                                                                                                                                                                                                                                                                                                                                                                                                                                                                                                                                                                                                                                                                                                                                                                                                        |\n",
            "|[11-beta-hydroxylase deficiency, Chills, Swelling]                                                       |[]                                                                                                                                                                                                                                                                                                                                                                                                                                                                                                                                                                                                                                                                                                                                                                                                                                                                                                                                                                                                                                                                                                                                                                                                                                                                                                                                                                                                                                                                                                                                                                                                                                                        |\n",
            "|[11-beta-hydroxylase deficiency, Headache]                                                               |[{Myalgia, 1.0}, {Pain in extremity, 1.0}, {Laboratory test abnormal, 1.0}, {Chills, 1.0}, {Insomnia, 1.0}, {Swelling, 1.0}]                                                                                                                                                                                                                                                                                                                                                                                                                                                                                                                                                                                                                                                                                                                                                                                                                                                                                                                                                                                                                                                                                                                                                                                                                                                                                                                                                                                                                                                                                                                              |\n",
            "|[11-beta-hydroxylase deficiency, Headache, Insomnia]                                                     |[]                                                                                                                                                                                                                                                                                                                                                                                                                                                                                                                                                                                                                                                                                                                                                                                                                                                                                                                                                                                                                                                                                                                                                                                                                                                                                                                                                                                                                                                                                                                                                                                                                                                        |\n",
            "|[11-beta-hydroxylase deficiency, Headache, Laboratory test abnormal]                                     |[]                                                                                                                                                                                                                                                                                                                                                                                                                                                                                                                                                                                                                                                                                                                                                                                                                                                                                                                                                                                                                                                                                                                                                                                                                                                                                                                                                                                                                                                                                                                                                                                                                                                        |\n",
            "|[11-beta-hydroxylase deficiency, Headache, Myalgia]                                                      |[]                                                                                                                                                                                                                                                                                                                                                                                                                                                                                                                                                                                                                                                                                                                                                                                                                                                                                                                                                                                                                                                                                                                                                                                                                                                                                                                                                                                                                                                                                                                                                                                                                                                        |\n",
            "|[11-beta-hydroxylase deficiency, Headache, Pain in extremity]                                            |[]                                                                                                                                                                                                                                                                                                                                                                                                                                                                                                                                                                                                                                                                                                                                                                                                                                                                                                                                                                                                                                                                                                                                                                                                                                                                                                                                                                                                                                                                                                                                                                                                                                                        |\n",
            "|[11-beta-hydroxylase deficiency, Headache, Swelling]                                                     |[]                                                                                                                                                                                                                                                                                                                                                                                                                                                                                                                                                                                                                                                                                                                                                                                                                                                                                                                                                                                                                                                                                                                                                                                                                                                                                                                                                                                                                                                                                                                                                                                                                                                        |\n",
            "|[11-beta-hydroxylase deficiency, Insomnia]                                                               |[{Swelling, 1.0}, {Laboratory test abnormal, 1.0}, {Headache, 1.0}, {Myalgia, 1.0}, {Pain in extremity, 1.0}, {Chills, 1.0}]                                                                                                                                                                                                                                                                                                                                                                                                                                                                                                                                                                                                                                                                                                                                                                                                                                                                                                                                                                                                                                                                                                                                                                                                                                                                                                                                                                                                                                                                                                                              |\n",
            "|[11-beta-hydroxylase deficiency, Insomnia, Laboratory test abnormal]                                     |[]                                                                                                                                                                                                                                                                                                                                                                                                                                                                                                                                                                                                                                                                                                                                                                                                                                                                                                                                                                                                                                                                                                                                                                                                                                                                                                                                                                                                                                                                                                                                                                                                                                                        |\n",
            "|[11-beta-hydroxylase deficiency, Insomnia, Myalgia]                                                      |[]                                                                                                                                                                                                                                                                                                                                                                                                                                                                                                                                                                                                                                                                                                                                                                                                                                                                                                                                                                                                                                                                                                                                                                                                                                                                                                                                                                                                                                                                                                                                                                                                                                                        |\n",
            "|[11-beta-hydroxylase deficiency, Insomnia, Pain in extremity]                                            |[]                                                                                                                                                                                                                                                                                                                                                                                                                                                                                                                                                                                                                                                                                                                                                                                                                                                                                                                                                                                                                                                                                                                                                                                                                                                                                                                                                                                                                                                                                                                                                                                                                                                        |\n",
            "|[11-beta-hydroxylase deficiency, Insomnia, Swelling]                                                     |[]                                                                                                                                                                                                                                                                                                                                                                                                                                                                                                                                                                                                                                                                                                                                                                                                                                                                                                                                                                                                                                                                                                                                                                                                                                                                                                                                                                                                                                                                                                                                                                                                                                                        |\n",
            "|[11-beta-hydroxylase deficiency, Laboratory test abnormal]                                               |[{Chills, 1.0}, {Headache, 1.0}, {Pain in extremity, 1.0}, {Myalgia, 1.0}, {Swelling, 1.0}, {Insomnia, 1.0}]                                                                                                                                                                                                                                                                                                                                                                                                                                                                                                                                                                                                                                                                                                                                                                                                                                                                                                                                                                                                                                                                                                                                                                                                                                                                                                                                                                                                                                                                                                                                              |\n",
            "|[11-beta-hydroxylase deficiency, Laboratory test abnormal, Myalgia]                                      |[]                                                                                                                                                                                                                                                                                                                                                                                                                                                                                                                                                                                                                                                                                                                                                                                                                                                                                                                                                                                                                                                                                                                                                                                                                                                                                                                                                                                                                                                                                                                                                                                                                                                        |\n",
            "|[11-beta-hydroxylase deficiency, Laboratory test abnormal, Pain in extremity]                            |[]                                                                                                                                                                                                                                                                                                                                                                                                                                                                                                                                                                                                                                                                                                                                                                                                                                                                                                                                                                                                                                                                                                                                                                                                                                                                                                                                                                                                                                                                                                                                                                                                                                                        |\n",
            "|[11-beta-hydroxylase deficiency, Laboratory test abnormal, Swelling]                                     |[]                                                                                                                                                                                                                                                                                                                                                                                                                                                                                                                                                                                                                                                                                                                                                                                                                                                                                                                                                                                                                                                                                                                                                                                                                                                                                                                                                                                                                                                                                                                                                                                                                                                        |\n",
            "|[11-beta-hydroxylase deficiency, Myalgia]                                                                |[{Headache, 1.0}, {Chills, 1.0}, {Pain in extremity, 1.0}, {Laboratory test abnormal, 1.0}, {Swelling, 1.0}, {Insomnia, 1.0}]                                                                                                                                                                                                                                                                                                                                                                                                                                                                                                                                                                                                                                                                                                                                                                                                                                                                                                                                                                                                                                                                                                                                                                                                                                                                                                                                                                                                                                                                                                                             |\n",
            "|[11-beta-hydroxylase deficiency, Myalgia, Pain in extremity]                                             |[]                                                                                                                                                                                                                                                                                                                                                                                                                                                                                                                                                                                                                                                                                                                                                                                                                                                                                                                                                                                                                                                                                                                                                                                                                                                                                                                                                                                                                                                                                                                                                                                                                                                        |\n",
            "|[11-beta-hydroxylase deficiency, Myalgia, Swelling]                                                      |[]                                                                                                                                                                                                                                                                                                                                                                                                                                                                                                                                                                                                                                                                                                                                                                                                                                                                                                                                                                                                                                                                                                                                                                                                                                                                                                                                                                                                                                                                                                                                                                                                                                                        |\n",
            "|[11-beta-hydroxylase deficiency, Pain in extremity]                                                      |[{Headache, 1.0}, {Chills, 1.0}, {Myalgia, 1.0}, {Laboratory test abnormal, 1.0}, {Swelling, 1.0}, {Insomnia, 1.0}]                                                                                                                                                                                                                                                                                                                                                                                                                                                                                                                                                                                                                                                                                                                                                                                                                                                                                                                                                                                                                                                                                                                                                                                                                                                                                                                                                                                                                                                                                                                                       |\n",
            "|[11-beta-hydroxylase deficiency, Pain in extremity, Swelling]                                            |[]                                                                                                                                                                                                                                                                                                                                                                                                                                                                                                                                                                                                                                                                                                                                                                                                                                                                                                                                                                                                                                                                                                                                                                                                                                                                                                                                                                                                                                                                                                                                                                                                                                                        |\n",
            "|[11-beta-hydroxylase deficiency, Swelling]                                                               |[{Insomnia, 1.0}, {Pain in extremity, 1.0}, {Myalgia, 1.0}, {Laboratory test abnormal, 1.0}, {Headache, 1.0}, {Chills, 1.0}]                                                                                                                                                                                                                                                                                                                                                                                                                                                                                                                                                                                                                                                                                                                                                                                                                                                                                                                                                                                                                                                                                                                                                                                                                                                                                                                                                                                                                                                                                                                              |\n",
            "|[5'nucleotidase]                                                                                         |[{Bilirubin conjugated, 1.0}, {Mycoplasma test, 1.0}, {Hepatitis B surface antibody positive, 1.0}, {Protein total normal, 1.0}, {Fibrin D dimer, 1.0}, {Blood immunoglobulin G, 1.0}, {Herpes simplex serology negative, 1.0}, {C-reactive protein increased, 1.0}, {White blood cell count normal, 1.0}, {Cytomegalovirus test negative, 1.0}, {Platelet count decreased, 1.0}, {Streptococcus test negative, 1.0}, {Alanine aminotransferase normal, 1.0}, {Prothrombin time shortened, 1.0}, {Immunoglobulin therapy, 1.0}, {Scan bone marrow abnormal, 1.0}, {Thrombin time abnormal, 1.0}, {Hepatitis C virus test, 1.0}, {Blood bilirubin normal, 1.0}, {Total bile acids, 1.0}, {PCO2 decreased, 1.0}, {Blood cholinesterase increased, 1.0}, {Petechiae, 1.0}, {Blood albumin normal, 1.0}, {International normalised ratio normal, 1.0}, {Hepatitis B e antigen, 1.0}, {Blood pH decreased, 1.0}, {Gamma-glutamyltransferase increased, 1.0}, {Idiopathic thrombocytopenic purpura, 1.0}, {Aspartate aminotransferase normal, 1.0}, {Treponema test negative, 1.0}, {Haemoglobin decreased, 1.0}, {Red blood cell count decreased, 1.0}, {Blood immunoglobulin M, 1.0}, {Blood immunoglobulin A, 1.0}, {Globulin, 1.0}, {Toxoplasma serology negative, 1.0}, {Hepatitis B core antibody, 1.0}, {Blood bilirubin unconjugated increased, 1.0}, {HIV antibody negative, 1.0}, {Hepatitis B e antigen negative, 1.0}, {Blood fibrinogen, 1.0}, {Hepatitis B e antibody, 1.0}, {Rubella antibody negative, 1.0}, {Hepatitis B surface antigen negative, 1.0}, {Activated partial thromboplastin time prolonged, 1.0}, {Antibody test negative, 1.0}]|\n",
            "|[5'nucleotidase, Activated partial thromboplastin time prolonged]                                        |[{Alanine aminotransferase normal, 1.0}, {Thrombin time abnormal, 1.0}, {Hepatitis C virus test, 1.0}, {Hepatitis B e antigen, 1.0}, {Herpes simplex serology negative, 1.0}, {White blood cell count normal, 1.0}, {Idiopathic thrombocytopenic purpura, 1.0}, {Gamma-glutamyltransferase increased, 1.0}, {Prothrombin time shortened, 1.0}, {Fibrin D dimer, 1.0}, {Blood cholinesterase increased, 1.0}, {Blood immunoglobulin G, 1.0}, {PCO2 decreased, 1.0}, {Platelet count decreased, 1.0}, {Blood pH decreased, 1.0}, {Protein total normal, 1.0}, {International normalised ratio normal, 1.0}, {Bilirubin conjugated, 1.0}, {C-reactive protein increased, 1.0}, {Hepatitis B surface antibody positive, 1.0}, {Total bile acids, 1.0}, {Blood albumin normal, 1.0}, {Scan bone marrow abnormal, 1.0}, {Mycoplasma test, 1.0}, {Streptococcus test negative, 1.0}, {Cytomegalovirus test negative, 1.0}, {Immunoglobulin therapy, 1.0}, {Petechiae, 1.0}, {Blood bilirubin normal, 1.0}, {Blood immunoglobulin A, 1.0}, {Haemoglobin decreased, 1.0}, {Aspartate aminotransferase normal, 1.0}, {Treponema test negative, 1.0}, {Red blood cell count decreased, 1.0}, {Globulin, 1.0}, {Hepatitis B e antibody, 1.0}, {Antibody test negative, 1.0}, {Hepatitis B e antigen negative, 1.0}, {Blood immunoglobulin M, 1.0}, {Hepatitis B surface antigen negative, 1.0}, {Blood bilirubin unconjugated increased, 1.0}, {Toxoplasma serology negative, 1.0}, {Blood fibrinogen, 1.0}, {HIV antibody negative, 1.0}, {Rubella antibody negative, 1.0}, {Hepatitis B core antibody, 1.0}]                                                        |\n",
            "|[5'nucleotidase, Activated partial thromboplastin time prolonged, Alanine aminotransferase normal]       |[]                                                                                                                                                                                                                                                                                                                                                                                                                                                                                                                                                                                                                                                                                                                                                                                                                                                                                                                                                                                                                                                                                                                                                                                                                                                                                                                                                                                                                                                                                                                                                                                                                                                        |\n",
            "|[5'nucleotidase, Activated partial thromboplastin time prolonged, Antibody test negative]                |[]                                                                                                                                                                                                                                                                                                                                                                                                                                                                                                                                                                                                                                                                                                                                                                                                                                                                                                                                                                                                                                                                                                                                                                                                                                                                                                                                                                                                                                                                                                                                                                                                                                                        |\n",
            "|[5'nucleotidase, Activated partial thromboplastin time prolonged, Aspartate aminotransferase normal]     |[]                                                                                                                                                                                                                                                                                                                                                                                                                                                                                                                                                                                                                                                                                                                                                                                                                                                                                                                                                                                                                                                                                                                                                                                                                                                                                                                                                                                                                                                                                                                                                                                                                                                        |\n",
            "|[5'nucleotidase, Activated partial thromboplastin time prolonged, Bilirubin conjugated]                  |[]                                                                                                                                                                                                                                                                                                                                                                                                                                                                                                                                                                                                                                                                                                                                                                                                                                                                                                                                                                                                                                                                                                                                                                                                                                                                                                                                                                                                                                                                                                                                                                                                                                                        |\n",
            "|[5'nucleotidase, Activated partial thromboplastin time prolonged, Blood albumin normal]                  |[]                                                                                                                                                                                                                                                                                                                                                                                                                                                                                                                                                                                                                                                                                                                                                                                                                                                                                                                                                                                                                                                                                                                                                                                                                                                                                                                                                                                                                                                                                                                                                                                                                                                        |\n",
            "|[5'nucleotidase, Activated partial thromboplastin time prolonged, Blood bilirubin normal]                |[]                                                                                                                                                                                                                                                                                                                                                                                                                                                                                                                                                                                                                                                                                                                                                                                                                                                                                                                                                                                                                                                                                                                                                                                                                                                                                                                                                                                                                                                                                                                                                                                                                                                        |\n",
            "|[5'nucleotidase, Activated partial thromboplastin time prolonged, Blood bilirubin unconjugated increased]|[]                                                                                                                                                                                                                                                                                                                                                                                                                                                                                                                                                                                                                                                                                                                                                                                                                                                                                                                                                                                                                                                                                                                                                                                                                                                                                                                                                                                                                                                                                                                                                                                                                                                        |\n",
            "|[5'nucleotidase, Activated partial thromboplastin time prolonged, Blood cholinesterase increased]        |[]                                                                                                                                                                                                                                                                                                                                                                                                                                                                                                                                                                                                                                                                                                                                                                                                                                                                                                                                                                                                                                                                                                                                                                                                                                                                                                                                                                                                                                                                                                                                                                                                                                                        |\n",
            "|[5'nucleotidase, Activated partial thromboplastin time prolonged, Blood fibrinogen]                      |[]                                                                                                                                                                                                                                                                                                                                                                                                                                                                                                                                                                                                                                                                                                                                                                                                                                                                                                                                                                                                                                                                                                                                                                                                                                                                                                                                                                                                                                                                                                                                                                                                                                                        |\n",
            "|[5'nucleotidase, Activated partial thromboplastin time prolonged, Blood immunoglobulin A]                |[]                                                                                                                                                                                                                                                                                                                                                                                                                                                                                                                                                                                                                                                                                                                                                                                                                                                                                                                                                                                                                                                                                                                                                                                                                                                                                                                                                                                                                                                                                                                                                                                                                                                        |\n",
            "|[5'nucleotidase, Activated partial thromboplastin time prolonged, Blood immunoglobulin G]                |[]                                                                                                                                                                                                                                                                                                                                                                                                                                                                                                                                                                                                                                                                                                                                                                                                                                                                                                                                                                                                                                                                                                                                                                                                                                                                                                                                                                                                                                                                                                                                                                                                                                                        |\n",
            "|[5'nucleotidase, Activated partial thromboplastin time prolonged, Blood immunoglobulin M]                |[]                                                                                                                                                                                                                                                                                                                                                                                                                                                                                                                                                                                                                                                                                                                                                                                                                                                                                                                                                                                                                                                                                                                                                                                                                                                                                                                                                                                                                                                                                                                                                                                                                                                        |\n",
            "|[5'nucleotidase, Activated partial thromboplastin time prolonged, Blood pH decreased]                    |[]                                                                                                                                                                                                                                                                                                                                                                                                                                                                                                                                                                                                                                                                                                                                                                                                                                                                                                                                                                                                                                                                                                                                                                                                                                                                                                                                                                                                                                                                                                                                                                                                                                                        |\n",
            "|[5'nucleotidase, Activated partial thromboplastin time prolonged, C-reactive protein increased]          |[]                                                                                                                                                                                                                                                                                                                                                                                                                                                                                                                                                                                                                                                                                                                                                                                                                                                                                                                                                                                                                                                                                                                                                                                                                                                                                                                                                                                                                                                                                                                                                                                                                                                        |\n",
            "|[5'nucleotidase, Activated partial thromboplastin time prolonged, Cytomegalovirus test negative]         |[]                                                                                                                                                                                                                                                                                                                                                                                                                                                                                                                                                                                                                                                                                                                                                                                                                                                                                                                                                                                                                                                                                                                                                                                                                                                                                                                                                                                                                                                                                                                                                                                                                                                        |\n",
            "|[5'nucleotidase, Activated partial thromboplastin time prolonged, Fibrin D dimer]                        |[]                                                                                                                                                                                                                                                                                                                                                                                                                                                                                                                                                                                                                                                                                                                                                                                                                                                                                                                                                                                                                                                                                                                                                                                                                                                                                                                                                                                                                                                                                                                                                                                                                                                        |\n",
            "|[5'nucleotidase, Activated partial thromboplastin time prolonged, Gamma-glutamyltransferase increased]   |[]                                                                                                                                                                                                                                                                                                                                                                                                                                                                                                                                                                                                                                                                                                                                                                                                                                                                                                                                                                                                                                                                                                                                                                                                                                                                                                                                                                                                                                                                                                                                                                                                                                                        |\n",
            "|[5'nucleotidase, Activated partial thromboplastin time prolonged, Globulin]                              |[]                                                                                                                                                                                                                                                                                                                                                                                                                                                                                                                                                                                                                                                                                                                                                                                                                                                                                                                                                                                                                                                                                                                                                                                                                                                                                                                                                                                                                                                                                                                                                                                                                                                        |\n",
            "+---------------------------------------------------------------------------------------------------------+----------------------------------------------------------------------------------------------------------------------------------------------------------------------------------------------------------------------------------------------------------------------------------------------------------------------------------------------------------------------------------------------------------------------------------------------------------------------------------------------------------------------------------------------------------------------------------------------------------------------------------------------------------------------------------------------------------------------------------------------------------------------------------------------------------------------------------------------------------------------------------------------------------------------------------------------------------------------------------------------------------------------------------------------------------------------------------------------------------------------------------------------------------------------------------------------------------------------------------------------------------------------------------------------------------------------------------------------------------------------------------------------------------------------------------------------------------------------------------------------------------------------------------------------------------------------------------------------------------------------------------------------------------+\n",
            "only showing top 50 rows\n",
            "\n",
            "CPU times: user 6.92 s, sys: 1.16 s, total: 8.08 s\n",
            "Wall time: 36min 33s\n"
          ]
        }
      ]
    },
    {
      "cell_type": "markdown",
      "metadata": {
        "id": "MB7hbp2324Cs"
      },
      "source": [
        "### 3.3 Résultats pour un symptôme (5 points)\n",
        "\n",
        "Après avoir exécuté le MBA, sélectionnez affichez les règles d'association (nom du symptôme et valeur d'association) du symptôme **d'ID 11320**, c'est-à-dire lorsque le symptôme est seul. La sortie doit être formatée dans un tableau, où chaque ligne contient les informations d'un symptôme associé."
      ]
    },
    {
      "cell_type": "markdown",
      "metadata": {
        "id": "RjksA2AA24Cs"
      },
      "source": [
        "Ce qui est attendu :\n",
        "- Titre du tableau : ID du symptôme 11320 et son nom\n",
        "- Nombre de lignes du tableau\n",
        "- Tableau contenant 2 colonnes : Symptôme (Nom du symptôme associé) et Information (Niveau de confiance)\n",
        "- **Important** : La première colonne (symptôme) doit être classée par ordre alphabétique"
      ]
    },
    {
      "cell_type": "code",
      "source": [
        "from pyspark.sql.functions import size, array_contains, col, explode\n",
        "\n",
        "# Step 1: Get the name of the symptom with ID = 11320\n",
        "symptom_name_11320 = spark.sql(\"\"\"\n",
        "    SELECT SYMPTOM_NAME\n",
        "    FROM SYMPTOMS\n",
        "    WHERE SYMPTOM_ID = 11320\n",
        "\"\"\").first()[0]\n",
        "\n",
        "print(f\"ID du symptôme 11320 et son nom: {symptom_name_11320}\")\n",
        "\n",
        "# Step 2: Filter assoc_rules_df where pattern == [symptom_11320]\n",
        "rules_filtered = rules_df.filter(\n",
        "    (size(\"patterns\") == 1) & array_contains(\"patterns\", symptom_name_11320)\n",
        ")\n",
        "\n",
        "# Step 3: Explode the association_rules to get one row per (symptom, confidence)\n",
        "result_df = rules_filtered.select(explode(\"association_rules\").alias(\"rule\")) \\\n",
        "    .select(\n",
        "        col(\"rule._1\").alias(\"Symptôme\"),\n",
        "        col(\"rule._2\").alias(\"Information\")\n",
        "    ).orderBy(\"Symptôme\")\n",
        "\n",
        "# Step 4: Print the number of lines (rules) and the table\n",
        "print(f\"Nombre de lignes du tableau: {result_df.count()}\\n\")\n",
        "\n",
        "# Step 5: Show result\n",
        "result_df.show(truncate=False)\n"
      ],
      "metadata": {
        "id": "g7F6lrrj4nkT",
        "colab": {
          "base_uri": "https://localhost:8080/"
        },
        "outputId": "542d049e-1114-411f-93cc-2a4f82bc4af9"
      },
      "execution_count": 24,
      "outputs": [
        {
          "output_type": "stream",
          "name": "stdout",
          "text": [
            "ID du symptôme 11320 et son nom: Dizziness\n",
            "Nombre de lignes du tableau: 3139\n",
            "\n",
            "+------------------------------+-----------+\n",
            "|Symptôme                      |Information|\n",
            "+------------------------------+-----------+\n",
            "|ACTH stimulation test abnormal|0.0        |\n",
            "|ACTH stimulation test normal  |0.0        |\n",
            "|AST/ALT ratio                 |0.0        |\n",
            "|Abasia                        |0.009      |\n",
            "|Abdomen scan                  |0.001      |\n",
            "|Abdomen scan normal           |0.0        |\n",
            "|Abdominal X-ray               |0.001      |\n",
            "|Abdominal discomfort          |0.013      |\n",
            "|Abdominal distension          |0.018      |\n",
            "|Abdominal infection           |0.001      |\n",
            "|Abdominal migraine            |0.0        |\n",
            "|Abdominal pain                |0.098      |\n",
            "|Abdominal pain lower          |0.006      |\n",
            "|Abdominal pain upper          |0.042      |\n",
            "|Abdominal rigidity            |0.001      |\n",
            "|Abdominal tenderness          |0.002      |\n",
            "|Abnormal behaviour            |0.003      |\n",
            "|Abnormal dreams               |0.0        |\n",
            "|Abnormal faeces               |0.003      |\n",
            "|Abnormal loss of weight       |0.002      |\n",
            "+------------------------------+-----------+\n",
            "only showing top 20 rows\n",
            "\n"
          ]
        }
      ]
    },
    {
      "cell_type": "markdown",
      "metadata": {
        "id": "e06nMh97qgl_"
      },
      "source": [
        "## 4. Analyse et commentaires (5 points)"
      ]
    },
    {
      "cell_type": "markdown",
      "metadata": {
        "id": "MVBQ12b2Ma0o"
      },
      "source": [
        "Faites une analyse globale de l'application du MBA sur les données VAERS (domaine médical). Dans votre analyse, répondez brièvement aux questions suivantes :\n",
        "- La qualité des données influence-t-elle les résultats ? Prenez le cas particulier ou certains patients présentent un nombre anormalement élevé ou faible de symptômes déclarés.\n",
        "- Quelles mesures pourrait-on prendre pour limiter l’impact de cette variabilité et améliorer la robustesse des résultats ?\n",
        "- Quel est l'apport de l’algorithme MBA dans ce contexte particulier ? Par exemple, dans les paniers d'achat, identifier les produits achetés ensemble permet d’optimiser les ventes, par exemple en organisant les rayons de manière stratégique ou en proposant des offres groupées.\n",
        "- De même, quelles sont les limites de l’approche dans ce contexte ?"
      ]
    },
    {
      "cell_type": "markdown",
      "source": [
        "**1. Influence de la qualité des données sur les résultats:**\n",
        "\n",
        "La qualité des données a un impact crucial sur les résultats du MBA appliqué aux données VAERS. Quand un patient signale un nombre très élevé de symptômes, cela génère un volume important de combinaisons, pouvant fausser les résultats avec des associations artificielles. À l’inverse, les rapports très pauvres en symptômes risquent de passer à côté de motifs pertinents mais rares, sous-estimant ainsi certaines associations significatives.\n",
        "\n",
        "**2. Mesures pour limiter l'impact de la variabilité:**\n",
        "\n",
        "Pour limiter l’influence de cette variabilité, plusieurs mesures peuvent être mises en place. Par exemple, normaliser les données en excluant les cas extrêmes permet d'éviter les biais. Appliquer une pondération statistique peut aussi réduire l’effet des rapports surchargés. En segmentant les analyses selon les groupes ou les types de vaccins, on gagne en précision. Des techniques comme l’échantillonnage stratifié et la validation croisée renforcent encore la fiabilité et la robustesse des résultats.\n",
        "\n",
        "**3. Apport de l'algorithme MBA dans le contexte médical:**\n",
        "\n",
        "L’algorithme MBA est particulièrement utile dans un contexte médical. Il permet d’identifier des regroupements de symptômes qui peuvent révéler des syndromes potentiels liés aux vaccins. Cela aide les professionnels de santé à mieux comprendre les tableaux cliniques post-vaccination. De plus, il soutient la pharmacovigilance en détectant des signaux inhabituels et peut même orienter la recherche vers des mécanismes biologiques sous-jacents encore peu explorés.\n",
        "\n",
        "**4. Limites de l'approche dans ce contexte:**\n",
        "\n",
        "Cependant, cette approche a ses limites. D’abord, elle met en évidence des corrélations mais ne peut prouver une relation de cause à effet. Ensuite, l’absence de temporalité dans les données nuit à l’interprétation médicale. De plus, le caractère auto-déclaré des données VAERS introduit des biais non négligeables. Enfin, sans prise en compte du contexte médical complet ou d’une terminologie standardisée, certaines associations peuvent être imprécises ou mal interprétées."
      ],
      "metadata": {
        "id": "yqaACFxsMXM9"
      }
    }
  ],
  "metadata": {
    "colab": {
      "collapsed_sections": [
        "ZQOy7hD8t76L"
      ],
      "provenance": [],
      "gpuType": "T4"
    },
    "kernelspec": {
      "display_name": "Python 3",
      "name": "python3"
    },
    "language_info": {
      "codemirror_mode": {
        "name": "ipython",
        "version": 3
      },
      "file_extension": ".py",
      "mimetype": "text/x-python",
      "name": "python",
      "nbconvert_exporter": "python",
      "pygments_lexer": "ipython3",
      "version": "3.11.7"
    },
    "accelerator": "GPU"
  },
  "nbformat": 4,
  "nbformat_minor": 0
}